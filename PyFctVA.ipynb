{
  "nbformat": 4,
  "nbformat_minor": 0,
  "metadata": {
    "colab": {
      "name": "PyFctVA.ipynb",
      "provenance": [],
      "collapsed_sections": [
        "CeRXBSMjl_o8"
      ],
      "authorship_tag": "ABX9TyMqA1ihidEHGnqSAcGh77ce",
      "include_colab_link": true
    },
    "kernelspec": {
      "name": "python3",
      "display_name": "Python 3"
    },
    "language_info": {
      "name": "python"
    }
  },
  "cells": [
    {
      "cell_type": "markdown",
      "metadata": {
        "id": "view-in-github",
        "colab_type": "text"
      },
      "source": [
        "<a href=\"https://colab.research.google.com/github/vincent-arese/PythonConfigVA/blob/main/PyFctVA.ipynb\" target=\"_parent\"><img src=\"https://colab.research.google.com/assets/colab-badge.svg\" alt=\"Open In Colab\"/></a>"
      ]
    },
    {
      "cell_type": "markdown",
      "metadata": {
        "id": "VT3tToYclGob"
      },
      "source": [
        "## Fonctions Perso"
      ]
    },
    {
      "cell_type": "markdown",
      "metadata": {
        "id": "yEr7mcvUpNEg"
      },
      "source": [
        "#### Liste Fonctions "
      ]
    },
    {
      "cell_type": "markdown",
      "metadata": {
        "id": "M8nJKvm997cJ"
      },
      "source": [
        "### Search "
      ]
    },
    {
      "cell_type": "code",
      "execution_count": null,
      "metadata": {
        "id": "ugv88iKGovoM"
      },
      "outputs": [],
      "source": [
        "def get_df_name(df):\n",
        "    name =[x for x in globals() if globals()[x] is df][0]\n",
        "    return name\n",
        "#source : https://stackoverflow.com/questions/31727333/get-the-name-of-a-pandas-dataframe   Pour les series utiliser .name  (ou .names )"
      ]
    },
    {
      "cell_type": "markdown",
      "metadata": {
        "id": "CeRXBSMjl_o8"
      },
      "source": [
        "##### Search NaN  SearchNaN(DataFrame,Option)"
      ]
    },
    {
      "cell_type": "code",
      "execution_count": null,
      "metadata": {
        "id": "FhZlTn2ZmEZk"
      },
      "outputs": [],
      "source": [
        "#Fonction ChercheNaN : Recherche des NaN\n",
        "def SearchNaN(DataFrame,Option):\n",
        "  \"\"\"ChercheNaN : Recherche des NaN\n",
        "  \n",
        "  Option : \n",
        "  1: Total nombre de NaN par colonne\n",
        "  2: Afficher les lignes ayant au moins 1 NaN\n",
        "  3: Nomnbre de lignes ayant 1 NaN\n",
        "  \"\"\"\n",
        "  df_name = get_df_name(DataFrame)\n",
        "\n",
        "  if Option==1:\n",
        "   return print(pcolors.OK+ df_name +pcolors.RESET,': Nombre de NaN par colonne (total lignes',len(DataFrame),'):/n' ,\n",
        "                DataFrame.isnull().sum(axis=0),'\\n------%-----\\n',\n",
        "                (DataFrame.isnull().sum(axis=0)/len(DataFrame))*100) #  Option1 : Total nombre de NaN par colonne\n",
        "  elif Option==2:\n",
        "    return DataFrame[DataFrame.isnull().any(axis=1)]  #Afficher les lignes ayant au moins 1 NaN\n",
        "  elif Option==3: \n",
        "    return print(pcolors.OK+ df_name +pcolors.RESET,': Nombre de ligne(s) ayant au moins 1 NaN :',\n",
        "                 len(DataFrame[DataFrame.isnull().any(axis=1)]),'\\n-----%------\\n',\n",
        "                 (len(DataFrame[DataFrame.isnull().any(axis=1)])/len(DataFrame))*100)\n",
        "  else:\n",
        "    print(\"SearchNaN(DataFrame,Option) Error :\",\"Choisir Option :\\n\",\n",
        "          \"\\n 1: Total nombre de NaN par colonne\",\n",
        "          \"\\n 2: Total nombre de NaN par colonne\",\n",
        "          \"\\n 3: Nomnbre de lignes ayant 1 NaN\")\n",
        "\n",
        "# DEBUG  recherche NaN\n",
        "# temp=geo\n",
        "# temp.isnull().sum(axis=0) #  Option1 : Total nombre de NaN par colonne\n",
        "# test=temp[temp.isnull().any(axis=1)] ; test #Afficher les lignes ayant au moins 1 NaN\n",
        "# len(test)\n",
        "# test.Zone.unique()"
      ]
    },
    {
      "cell_type": "markdown",
      "metadata": {
        "id": "R1uh5_f5mIWb"
      },
      "source": [
        "##### SearchListe(df,liste)"
      ]
    },
    {
      "cell_type": "code",
      "execution_count": null,
      "metadata": {
        "id": "LBNjEd4RmMCq"
      },
      "outputs": [],
      "source": [
        "# Recherche une liste dans un DataFrame\n",
        "def SearchListe(df,liste):\n",
        "  \"\"\"Recherche une liste dans un DataFrame et renvoie Df avec les Valeur pour masque SearchListe(dx,[2,4,7]) - liste=[2,4,7]/ SearchListe(dx,liste) accepte liste unique liste=[1]\"\"\"\n",
        "  return df[df.isin(liste)].dropna(thresh=1)\n",
        "\n",
        "# Exemple : \n",
        "# dx = pd.DataFrame(np.random.randint(10, size=(10, 3)),\n",
        "#                      columns=['A', 'B', 'C'])\n",
        "# dx\n",
        "# SearchListe(dx,[2,4,7])\n",
        "# liste=[2,4,7]\n",
        "# SearchListe(dx,liste)\n",
        "# SearchListe(dx,l)"
      ]
    },
    {
      "cell_type": "markdown",
      "metadata": {
        "id": "SXHiYkA9elbG"
      },
      "source": [
        "##### ListeCol Unique"
      ]
    },
    {
      "cell_type": "code",
      "execution_count": null,
      "metadata": {
        "id": "tufM7RS3exlj"
      },
      "outputs": [],
      "source": [
        "def ListeColUnique(df):\n",
        "  \"\"\" Itere sur les colonnes d'un DataFrame(df) et listes les valeurs unique de chaque colonne\"\"\"\n",
        "  ListeCol=df.columns\n",
        "  df_name = get_df_name(df)\n",
        "  print(ListeCol)\n",
        "  for col in ListeCol: \n",
        "     print(col,':',len(df[col].unique()),': \\n',df[col].sort_values(ascending=True,na_position='first').unique(),'\\n______________\\n')"
      ]
    },
    {
      "cell_type": "markdown",
      "metadata": {
        "id": "MmdpvopzvPyd"
      },
      "source": [
        "##### SearchKey(df)"
      ]
    },
    {
      "cell_type": "code",
      "execution_count": null,
      "metadata": {
        "id": "ELoYAlwJq81k"
      },
      "outputs": [],
      "source": [
        "def SearchKey(df):\n",
        "  \"\"\" Itere sur les colonnes d'un DataFrame(df) et Compte les valeurs uniques de chaque colonne\"\"\"\n",
        "  ListeCol=df.columns\n",
        "  df_name = get_df_name(df)\n",
        "  # print('Liste colonnes :',pcolors.OK +ListeCol+ pcolors.RESET)\n",
        "  print('\\n______________________________________________________________________________________\\n',\n",
        "        \"Recherche  valeurs uniques : \",\n",
        "        pcolors.WARNING+ df_name +pcolors.RESET,\" \",\n",
        "        # df.shape,\n",
        "        \"(\",len(df),\"Lignes,\",len(ListeCol),\"Colonnes)\",\n",
        "        '\\n______________________________________________________________________________________')\n",
        "  for col in ListeCol: \n",
        "    NbUnique=df[col].nunique()\n",
        "    Nbdoublons=len(df)-NbUnique\n",
        "    if Nbdoublons==0:\n",
        "      print(pcolors.OK +col,\":\"+pcolors.RESET,len(df),\"rows\",\n",
        "          \"|Nb unique:\",NbUnique,\n",
        "          \"|Nb doublons:\", Nbdoublons, \"-\",\n",
        "          np.round(((len(df)-NbUnique)/len(df))*100,0),'%',\n",
        "          pcolors.OK+\"Clé candidate\"+pcolors.RESET,\n",
        "          \"|\",df[col].dtype,\n",
        "          '\\n____________________________________________________________________________________')\n",
        "    elif Nbdoublons!=0:\n",
        "      print(pcolors.OK+col,\":\"+pcolors.RESET,len(df),\"rows\",\n",
        "          \"|Nb unique:\",NbUnique,\n",
        "          \"|Nb doublons:\", Nbdoublons, \"-\",\n",
        "          np.round(((len(df)-NbUnique)/len(df))*100,0),'%', \n",
        "          \"|\",df[col].dtype,     \n",
        "          '\\n______________________________________________________________________________________')"
      ]
    },
    {
      "cell_type": "markdown",
      "metadata": {
        "id": "yqUa4UUdmgWa"
      },
      "source": [
        "##### np.Array  LostElement(Array1,Array2)"
      ]
    },
    {
      "cell_type": "code",
      "execution_count": null,
      "metadata": {
        "id": "wsJOhZ4kmjXx"
      },
      "outputs": [],
      "source": [
        "# Rechercher un élément perdu à partir d’un tableau dupliqué \n",
        "def LostElement(A,B):\n",
        "  \"\"\"Rechercher un élément perdu à partir d’un tableau dupliqué\n",
        "    LostElement(ArrayA,ArrayB)  ou LostElement(df.A.unique(),df.B.unique())\n",
        "    Compare deux np.array !!!!\n",
        "      =>  DifférenceA=>B  : Valeur incluse dans A mais Non dans B \n",
        "      =>  DifférenceB=>A  : Valeur incluse dans B mais Non dans A\n",
        "  \"\"\"\n",
        "\n",
        "  # return print('ArrayA:',A,'- Nb val:',len(A),'\\n ArrayB:',B,'- Nb val:',len(B),pcolors.OK + '\\n----------------------\\n Différence inA=>notB',np.setdiff1d(A, B),'\\n----------------------\\n Différence inB=>notN',np.setdiff1d(B, A),'\\n----------------------\\n'+ pcolors.RESET)\n",
        "  return print('\\n----------------------\\n',\n",
        "               pcolors.OK +'Diff. inA=>notB'+ pcolors.RESET,np.setdiff1d(A, B),'\\n----------------------\\n',\n",
        "               pcolors.OK+'Diff. inB=>notA'+ pcolors.RESET,' ',np.setdiff1d(B, A),'\\n----------------------\\n',\n",
        "               pcolors.OK +'ArrayA:'+ pcolors.RESET,A,'- Nb val:',len(A),'\\n',\n",
        "               pcolors.OK +'\\n ArrayB:'+ pcolors.RESET,B,'- Nb val:',len(B),'\\n----------------------\\n')"
      ]
    },
    {
      "cell_type": "markdown",
      "metadata": {
        "id": "IWAaJeqpoVeN"
      },
      "source": [
        "##### Différences entre deux df get_different_rows(source_df, new_df)\n",
        "\n"
      ]
    },
    {
      "cell_type": "code",
      "execution_count": null,
      "metadata": {
        "id": "fRsXPpgqoYFB"
      },
      "outputs": [],
      "source": [
        "def get_different_rows(source_df, new_df):\n",
        "    \"\"\"Returns just the rows from the new dataframe that differ from the source dataframe\"\"\"\n",
        "    merged_df = source_df.merge(new_df, indicator=True, how='outer')\n",
        "    changed_rows_df = merged_df[merged_df['_merge'] == 'right_only']\n",
        "    return changed_rows_df.drop('_merge', axis=1)\n",
        "\n",
        "\n",
        "#Trouver les lignes peu communes entre deux DataFrames\n",
        "# pd.concat([SecuAlimGeo,SecuAlim]).drop_duplicates(keep=False)\n"
      ]
    },
    {
      "cell_type": "markdown",
      "metadata": {
        "id": "Vz0FVvnI-ODS"
      },
      "source": [
        "### Manip DataFrame"
      ]
    },
    {
      "cell_type": "markdown",
      "metadata": {
        "id": "wniVx7NDntuB"
      },
      "source": [
        "##### ColMove(df,ColName,ColIndex)"
      ]
    },
    {
      "cell_type": "code",
      "execution_count": null,
      "metadata": {
        "id": "u4UJxPfBnzy5"
      },
      "outputs": [],
      "source": [
        "# Deplacer une colonne dans un dataframe \n",
        "def ColMove(DataFrame,ColName,ColIndex):\n",
        "  \"\"\"Fonction  ColMove(DataFrame,ColName,ColIndex)  \n",
        "   Deplace un colonne dans un DataFrame  - ColName : nom colonne  - ColIndex : rang index souhaité (ddbut df 0 !)\n",
        "  \"\"\" \n",
        "  DataFrame.insert(ColIndex,'Xcol',DataFrame[ColName])\n",
        "  DataFrame.drop(ColName, axis=1, inplace=True)\n",
        "  DataFrame.rename(columns={'Xcol' : ColName},inplace=True)\n",
        "  return DataFrame"
      ]
    },
    {
      "cell_type": "markdown",
      "metadata": {
        "id": "7L5TnzxOA5_I"
      },
      "source": [
        "### Manip Date"
      ]
    },
    {
      "cell_type": "code",
      "execution_count": null,
      "metadata": {
        "id": "qdo3AcJVBDd4"
      },
      "outputs": [],
      "source": [
        "# Eclater date en colonnes  Journée - Jour - Mois - Année - Trimestre \n",
        "\n",
        "# data['date_naissance'] = pd.to_datetime(data['date_naissance'],format='%d/%m/%Y', errors='coerce')\n",
        "\n",
        "#https://docs.python.org/fr/3/library/datetime.html#strftime-and-strptime-format-codes \n",
        "#https://docs.python.org/3/library/datetime.html"
      ]
    },
    {
      "cell_type": "markdown",
      "metadata": {
        "id": "yYVkMO_SD7Jx"
      },
      "source": [
        "### Data type Optimisation"
      ]
    },
    {
      "cell_type": "markdown",
      "metadata": {
        "id": "2MBrf4AlnGhK"
      },
      "source": [
        "##### Change dtype Category to Object : dtypeCat2Obj(df)"
      ]
    },
    {
      "cell_type": "code",
      "execution_count": null,
      "metadata": {
        "id": "0J6fmymnnJCb"
      },
      "outputs": [],
      "source": [
        "def dtypeCat2Obj(df):\n",
        "    \"\"\"  iterate through all the columns of a dataframe and \n",
        "    modify the Dtype Catergory to Object (Str)       \n",
        "    \"\"\"\n",
        "     \n",
        "    for col in df.columns:\n",
        "        col_type = df[col].dtype\n",
        "        \n",
        "        if col_type == 'category':\n",
        "             df[col] = df[col].astype(str)    \n",
        "           \n",
        "    return df"
      ]
    },
    {
      "cell_type": "code",
      "execution_count": null,
      "metadata": {
        "id": "EaO4g0jwi9K4"
      },
      "outputs": [],
      "source": [
        "def DataChangeCat2Obj(df):\n",
        "    \"\"\"  iterate through all the columns of a dataframe and \n",
        "    modify the Dtype Catergory to Object (Str)       \n",
        "    \"\"\"\n",
        "     \n",
        "    for col in df.columns:\n",
        "        col_type = df[col].dtype\n",
        "        \n",
        "        if col_type == 'category':\n",
        "             df[col] = df[col].astype(str)    \n",
        "           \n",
        "    return df"
      ]
    },
    {
      "cell_type": "markdown",
      "metadata": {
        "id": "gOrc2k05nTH5"
      },
      "source": [
        "##### ReduceMemUsage reduce_mem_usage(df)"
      ]
    },
    {
      "cell_type": "code",
      "execution_count": null,
      "metadata": {
        "id": "TSU1TrwynWXZ"
      },
      "outputs": [],
      "source": [
        "# Drastically reduce df RAM usage ! \n",
        "#I don't know who the original author of this function but many thanks to him ;) \n",
        "#source : https://towardsdatascience.com/how-to-learn-from-bigdata-files-on-low-memory-incremental-learning-d377282d38ff\n",
        "def reduce_mem_usage(df):\n",
        "    \"\"\" \n",
        "    iterate through all the columns of a dataframe and \n",
        "    modify the data type to reduce memory usage.        \n",
        "    \"\"\"\n",
        "    start_mem = df.memory_usage().sum() / 1024**2\n",
        "    print(('Memory usage of dataframe is {:.2f}' \n",
        "                     'MB').format(start_mem))\n",
        "    \n",
        "    for col in df.columns:\n",
        "        col_type = df[col].dtype\n",
        "                \n",
        "        if col_type != object :\n",
        "        # if col_type != object | col_type != \"datetime64[ns]\" | col_type != \"period[Q-DEC]\":\n",
        "            c_min = df[col].min()\n",
        "            c_max = df[col].max()\n",
        "            if str(col_type)[:3] == 'int':\n",
        "                if c_min > np.iinfo(np.int8).min and c_max <\\\n",
        "                  np.iinfo(np.int8).max:\n",
        "                    df[col] = df[col].astype(np.int8)\n",
        "                elif c_min > np.iinfo(np.int16).min and c_max <\\\n",
        "                   np.iinfo(np.int16).max:\n",
        "                    df[col] = df[col].astype(np.int16)\n",
        "                elif c_min > np.iinfo(np.int32).min and c_max <\\\n",
        "                   np.iinfo(np.int32).max:\n",
        "                    df[col] = df[col].astype(np.int32)\n",
        "                elif c_min > np.iinfo(np.int64).min and c_max <\\\n",
        "                   np.iinfo(np.int64).max:\n",
        "                    df[col] = df[col].astype(np.int64)  \n",
        "            else:\n",
        "                if c_min > np.finfo(np.float16).min and c_max <\\\n",
        "                   np.finfo(np.float16).max:\n",
        "                    df[col] = df[col].astype(np.float16)\n",
        "                elif c_min > np.finfo(np.float32).min and c_max <\\\n",
        "                   np.finfo(np.float32).max:\n",
        "                    df[col] = df[col].astype(np.float32)\n",
        "                else:\n",
        "                    df[col] = df[col].astype(np.float64)\n",
        "        else:\n",
        "            if col_type == object : \n",
        "             df[col] = df[col].astype('category')\n",
        "    end_mem = df.memory_usage().sum() / 1024**2\n",
        "    print(('Memory usage after optimization is: {:.2f}' \n",
        "                              'MB').format(end_mem))\n",
        "    print('Decreased by {:.1f}%'.format(100 * (start_mem - end_mem) \n",
        "                                             / start_mem))\n",
        "    \n",
        "    return df\n",
        "\n",
        "    # Attention ne fct pas si le df à optimizer contient un type 'category'\n",
        "  #Code ...........\n",
        "    # df.info(memory_usage=True)\n",
        "    # DataFrame.memory_usage(index=True, deep=False)\n",
        "\n",
        "    #Ajouter gestion des data types suivants : \n",
        "    # datetime64[ns]  a tester\n",
        "    # period[Q-DEC]  a tester"
      ]
    },
    {
      "cell_type": "markdown",
      "metadata": {
        "id": "uOiZ4HjinZvi"
      },
      "source": [
        "###### dtype Min-Max"
      ]
    },
    {
      "cell_type": "code",
      "execution_count": null,
      "metadata": {
        "id": "dJHGt2kundVh",
        "colab": {
          "base_uri": "https://localhost:8080/",
          "height": 112
        },
        "outputId": "75acf52e-1ac1-4cf4-9431-10887b119b9d"
      },
      "outputs": [
        {
          "output_type": "execute_result",
          "data": {
            "text/plain": [
              "   np.int8:  np.int16:  np.int32:   np.int64:            np.float16:  \\\n",
              "0 -128      -32768     -2147483648 -9223372036854775808 -65504.0       \n",
              "1  127       32767      2147483647  9223372036854775807  65504.0       \n",
              "\n",
              "   np.float32:   np.float64:    \n",
              "0 -3.402823e+38 -1.797693e+308  \n",
              "1  3.402823e+38  1.797693e+308  "
            ],
            "text/html": [
              "\n",
              "  <div id=\"df-fd3f2980-fbf1-41c4-88d7-86e9b69b6601\">\n",
              "    <div class=\"colab-df-container\">\n",
              "      <div>\n",
              "<style scoped>\n",
              "    .dataframe tbody tr th:only-of-type {\n",
              "        vertical-align: middle;\n",
              "    }\n",
              "\n",
              "    .dataframe tbody tr th {\n",
              "        vertical-align: top;\n",
              "    }\n",
              "\n",
              "    .dataframe thead th {\n",
              "        text-align: right;\n",
              "    }\n",
              "</style>\n",
              "<table border=\"1\" class=\"dataframe\">\n",
              "  <thead>\n",
              "    <tr style=\"text-align: left;\">\n",
              "      <th></th>\n",
              "      <th>np.int8:</th>\n",
              "      <th>np.int16:</th>\n",
              "      <th>np.int32:</th>\n",
              "      <th>np.int64:</th>\n",
              "      <th>np.float16:</th>\n",
              "      <th>np.float32:</th>\n",
              "      <th>np.float64:</th>\n",
              "    </tr>\n",
              "  </thead>\n",
              "  <tbody>\n",
              "    <tr>\n",
              "      <th>0</th>\n",
              "      <td>-128</td>\n",
              "      <td>-32768</td>\n",
              "      <td>-2147483648</td>\n",
              "      <td>-9223372036854775808</td>\n",
              "      <td>-65504.0</td>\n",
              "      <td>-3.402823e+38</td>\n",
              "      <td>-1.797693e+308</td>\n",
              "    </tr>\n",
              "    <tr>\n",
              "      <th>1</th>\n",
              "      <td>127</td>\n",
              "      <td>32767</td>\n",
              "      <td>2147483647</td>\n",
              "      <td>9223372036854775807</td>\n",
              "      <td>65504.0</td>\n",
              "      <td>3.402823e+38</td>\n",
              "      <td>1.797693e+308</td>\n",
              "    </tr>\n",
              "  </tbody>\n",
              "</table>\n",
              "</div>\n",
              "      <button class=\"colab-df-convert\" onclick=\"convertToInteractive('df-fd3f2980-fbf1-41c4-88d7-86e9b69b6601')\"\n",
              "              title=\"Convert this dataframe to an interactive table.\"\n",
              "              style=\"display:none;\">\n",
              "        \n",
              "  <svg xmlns=\"http://www.w3.org/2000/svg\" height=\"24px\"viewBox=\"0 0 24 24\"\n",
              "       width=\"24px\">\n",
              "    <path d=\"M0 0h24v24H0V0z\" fill=\"none\"/>\n",
              "    <path d=\"M18.56 5.44l.94 2.06.94-2.06 2.06-.94-2.06-.94-.94-2.06-.94 2.06-2.06.94zm-11 1L8.5 8.5l.94-2.06 2.06-.94-2.06-.94L8.5 2.5l-.94 2.06-2.06.94zm10 10l.94 2.06.94-2.06 2.06-.94-2.06-.94-.94-2.06-.94 2.06-2.06.94z\"/><path d=\"M17.41 7.96l-1.37-1.37c-.4-.4-.92-.59-1.43-.59-.52 0-1.04.2-1.43.59L10.3 9.45l-7.72 7.72c-.78.78-.78 2.05 0 2.83L4 21.41c.39.39.9.59 1.41.59.51 0 1.02-.2 1.41-.59l7.78-7.78 2.81-2.81c.8-.78.8-2.07 0-2.86zM5.41 20L4 18.59l7.72-7.72 1.47 1.35L5.41 20z\"/>\n",
              "  </svg>\n",
              "      </button>\n",
              "      \n",
              "  <style>\n",
              "    .colab-df-container {\n",
              "      display:flex;\n",
              "      flex-wrap:wrap;\n",
              "      gap: 12px;\n",
              "    }\n",
              "\n",
              "    .colab-df-convert {\n",
              "      background-color: #E8F0FE;\n",
              "      border: none;\n",
              "      border-radius: 50%;\n",
              "      cursor: pointer;\n",
              "      display: none;\n",
              "      fill: #1967D2;\n",
              "      height: 32px;\n",
              "      padding: 0 0 0 0;\n",
              "      width: 32px;\n",
              "    }\n",
              "\n",
              "    .colab-df-convert:hover {\n",
              "      background-color: #E2EBFA;\n",
              "      box-shadow: 0px 1px 2px rgba(60, 64, 67, 0.3), 0px 1px 3px 1px rgba(60, 64, 67, 0.15);\n",
              "      fill: #174EA6;\n",
              "    }\n",
              "\n",
              "    [theme=dark] .colab-df-convert {\n",
              "      background-color: #3B4455;\n",
              "      fill: #D2E3FC;\n",
              "    }\n",
              "\n",
              "    [theme=dark] .colab-df-convert:hover {\n",
              "      background-color: #434B5C;\n",
              "      box-shadow: 0px 1px 3px 1px rgba(0, 0, 0, 0.15);\n",
              "      filter: drop-shadow(0px 1px 2px rgba(0, 0, 0, 0.3));\n",
              "      fill: #FFFFFF;\n",
              "    }\n",
              "  </style>\n",
              "\n",
              "      <script>\n",
              "        const buttonEl =\n",
              "          document.querySelector('#df-fd3f2980-fbf1-41c4-88d7-86e9b69b6601 button.colab-df-convert');\n",
              "        buttonEl.style.display =\n",
              "          google.colab.kernel.accessAllowed ? 'block' : 'none';\n",
              "\n",
              "        async function convertToInteractive(key) {\n",
              "          const element = document.querySelector('#df-fd3f2980-fbf1-41c4-88d7-86e9b69b6601');\n",
              "          const dataTable =\n",
              "            await google.colab.kernel.invokeFunction('convertToInteractive',\n",
              "                                                     [key], {});\n",
              "          if (!dataTable) return;\n",
              "\n",
              "          const docLinkHtml = 'Like what you see? Visit the ' +\n",
              "            '<a target=\"_blank\" href=https://colab.research.google.com/notebooks/data_table.ipynb>data table notebook</a>'\n",
              "            + ' to learn more about interactive tables.';\n",
              "          element.innerHTML = '';\n",
              "          dataTable['output_type'] = 'display_data';\n",
              "          await google.colab.output.renderOutput(dataTable, element);\n",
              "          const docLink = document.createElement('div');\n",
              "          docLink.innerHTML = docLinkHtml;\n",
              "          element.appendChild(docLink);\n",
              "        }\n",
              "      </script>\n",
              "    </div>\n",
              "  </div>\n",
              "  "
            ]
          },
          "metadata": {},
          "execution_count": 493
        }
      ],
      "source": [
        "pd.DataFrame.from_dict(\n",
        "{'np.int8:':[np.iinfo(np.int8).min, np.iinfo(np.int8).max],\n",
        "'np.int16:':[np.iinfo(np.int16).min, np.iinfo(np.int16).max],\n",
        "'np.int32:':[np.iinfo(np.int32).min, np.iinfo(np.int32).max],\n",
        "'np.int64:':[np.iinfo(np.int64).min, np.iinfo(np.int64).max],\n",
        "'np.float16:':[np.finfo(np.float16).min, np.finfo(np.float16).max],\n",
        "'np.float32:':[np.finfo(np.float32).min, np.finfo(np.float32).max],\n",
        "'np.float64:':[np.finfo(np.float64).min, np.finfo(np.float64).max]})\n",
        "\n",
        "## info complementaire https://towardsdatascience.com/reducing-memory-usage-in-pandas-with-smaller-datatypes-b527635830af"
      ]
    },
    {
      "cell_type": "markdown",
      "metadata": {
        "id": "JnX8FACIn5ZS"
      },
      "source": [
        "##### MultiDOWN ( Conversion multi-index  à index simple)"
      ]
    },
    {
      "cell_type": "code",
      "execution_count": null,
      "metadata": {
        "id": "5nmYAbrzn8lx"
      },
      "outputs": [],
      "source": [
        "#Fonction multiDOWN : Conversion df_MultiIndex to df_indexSimple\n",
        "def multiDOWN(DataFrame):\n",
        "  \"\"\"Fonction multiDOWN(DataFrame) : Conversion DataFrame_MultiIndex to DataFrame_indexSimple\"\"\"\n",
        "  DataFrame=DataFrame.columns=DataFrame.columns.to_flat_index() # colonnes => concatener le multi index en un index simple https://datascientyst.com/flatten-multiindex-in-pandas/\n",
        "  DataFrame.reset_index(inplace=True) # Conversion Index en colonnes simple.\n",
        " \n",
        "\n",
        "  # probleme  d'execution "
      ]
    },
    {
      "cell_type": "markdown",
      "metadata": {
        "id": "8TF_ApSU8YrP"
      },
      "source": [
        "### Fonction Satistiques"
      ]
    },
    {
      "cell_type": "markdown",
      "metadata": {
        "id": "xPhqzlgqowQ4"
      },
      "source": [
        "##### PercentCumul(df,Col) Calcul % cumulé"
      ]
    },
    {
      "cell_type": "code",
      "execution_count": null,
      "metadata": {
        "id": "IUV0c1-7ol4B"
      },
      "outputs": [],
      "source": [
        "# Tri ordre decroissant puis ajoute Colonnne avec Calcul % cumulé pour identifier 20/80 ou 80/20 \n",
        "def PercentCumul(df,Col):\n",
        "  \"\"\" Tri ordre decroissant puis ajoute Colonnne Col_cum% avec Calcul % cumulé pour identifier facilement 20/80 ou 80/20 \"\"\"\n",
        "  df=df.sort_values(by=[Col],ascending=False)\n",
        "  df[Col+'_percent']=(df[Col]/df[Col].sum()) * 100\n",
        "  df[Col+'cum_p']=(df[Col].cumsum() / df[Col].sum()) * 100\n",
        "  df[Col+'_percent']=df[Col+'_percent'].round(2)\n",
        "  df[Col+'cum_p']=df[Col+'cum_p'].round(2)\n",
        " \n",
        "  # df=df.sort_values(by=[Col+'cum_%'],ascending=False)\n",
        "  \n",
        "  return df\n",
        "\n",
        "\n",
        "# Cf cumsum() pour  SommeCumulée\n",
        " #https://pandas.pydata.org/docs/reference/api/pandas.DataFrame.cumsum.html \n",
        "\n",
        "\n",
        " # Aller plus loing  Pareto :  https://commentprogresser.com/outil-pareto.html\n",
        " # ABC  \n",
        " #  s'agit d'une variante des 20/80 qui propose cette fois-ci un découpage en 3 segments.\n",
        " #   Classe A : 20% des causes représentent 80% des effets.\n",
        " #   Classe B : 30% des causes représentent 15% des effets.\n",
        " #   Classe C: 50% des causes représentent 5% des effets.\n"
      ]
    },
    {
      "cell_type": "markdown",
      "metadata": {
        "id": "rXQklXV_n-g6"
      },
      "source": [
        "#### Moyenne Pondérée "
      ]
    },
    {
      "cell_type": "code",
      "execution_count": null,
      "metadata": {
        "id": "rUlLQG9pef1T"
      },
      "outputs": [],
      "source": [
        "# Calcul Moyenne Pondérée / Weighted Average\n",
        "\n",
        "def MoyPonderee(df, Colvalues, Colweights):\n",
        "  \"\"\" Moyenne Pondérée / Weighted Average\n",
        "    df: DataFrame  - Colvalues : Col Valeurs  - Colweights : Col. Poids relatif \n",
        "  Peut être utlisée avec un Groupby : df.groupby('Year').apply(MoyPonderee, 'Grades', 'NumCourses')\n",
        "  Source :  Rework of https://datagy.io/pandas-weighted-average/ \n",
        "  \"\"\"\n",
        "  return sum(df[Colweights] * df[Colvalues]) / df[Colweights].sum()\n",
        "\n",
        "\n",
        "# Source Rework of https://datagy.io/pandas-weighted-average/ "
      ]
    },
    {
      "cell_type": "markdown",
      "metadata": {
        "id": "a0rklT4VlYMo"
      },
      "source": [
        "#### QartileIndicatorCol(df,col) Ajout Colonne quartile"
      ]
    },
    {
      "cell_type": "code",
      "execution_count": null,
      "metadata": {
        "id": "Za2KZttuS-Es"
      },
      "outputs": [],
      "source": [
        "# Quartile (Ajout colonne conditionnelle quartile) & Outliers methode Interquartiles V2 \n",
        "\n",
        "def QartileIndicatorCol(df,col): \n",
        "  \"\"\" Ajout d'un colonne Conditionelle avec le quartile au df courant  & Recherce Ouliers Methode IQ ( InterQuartiles)\n",
        "QartileIndicatorCol(df,col) => df[col+\"Quartile\"] \"\"\"\n",
        "\n",
        "  # Caculs Seuils des quartiles \n",
        "  q25=df[col].quantile(q=0.25, interpolation='linear')  #Q1\n",
        "  q50=df[col].quantile(q=0.50, interpolation='linear')  #Q2\n",
        "  q75=df[col].quantile(q=0.75, interpolation='linear')  #Q3\n",
        "\n",
        "  Q1=q25 ;   Q2=q50 ;   Q3=q75 # Quartiles simplifiés\n",
        "\n",
        "  # Quartiles Conditions & label \n",
        "  conditionlist = [\n",
        "    (df[col] <= q25) ,\n",
        "    (df[col] > q25) & (df[col] <q75),\n",
        "    (df[col] >= q75)]\n",
        "   \n",
        "  choicelist = ['quartile1','quartile2','quartile3']\n",
        "\n",
        "  df[col+\"_Quartile\"] = np.select(conditionlist, choicelist, default='Not Specified')\n",
        "\n",
        "  # écart interquartile\n",
        "  EcartInterquartile  = Q3 - Q1  # IQ = Q3 - Q1\n",
        "  TauxIQoutliers = 1.5\n",
        "  IQoutliersInf = Q1 -  TauxIQoutliers *  EcartInterquartile # Outliers Inférieurs ?\n",
        "  IQoutliersSup = Q3 +  TauxIQoutliers *  EcartInterquartile # Outliers ISuperieur ? \n",
        "\n",
        " # IQ Conditions & label \n",
        "  conditionlist = [\n",
        "   (df[col] <  IQoutliersInf) ,\n",
        "   (df[col] >=  IQoutliersInf) & (df[col] <= IQoutliersSup),\n",
        "   (df[col] > IQoutliersSup)    ]\n",
        "  \n",
        "  choicelist = ['IQ_Ouliers_Inf','-','IQ_Ouliers_Sup'] \n",
        "\n",
        "  df[col+\"_IQ_Ouliers\"] = np.select(conditionlist, choicelist, default='Not Specified')\n",
        "  \n",
        "  print( pcolors.OK + \"Methode IQ \"+ col+ \":\"+ pcolors.RESET ,\n",
        "        \"Ecart Interquartile= \",EcartInterquartile,\n",
        "        \" -Q1 : \",Q1,\" -Q2 : \",Q2, \" -Q3 : \",Q3)\n",
        "  return df"
      ]
    },
    {
      "cell_type": "markdown",
      "metadata": {
        "id": "SzChDO4B75nj"
      },
      "source": [
        "####  Zscore :  Zscore(df,Col)"
      ]
    },
    {
      "cell_type": "code",
      "execution_count": null,
      "metadata": {
        "id": "sTdYGglH8AfN"
      },
      "outputs": [],
      "source": [
        "#Zscore\n",
        "def Zscore(df,Col): \n",
        "  \"\"\"Zscore(df,Col) :  Ajout colonnes Zscore_Col &  NivConf_Zscore_col\n",
        "                      'ZSscore Omlit NaN  & Interepretion Niv confiance\n",
        "  Parametres  Df: DataFrame & col : Colonne\n",
        "  \"\"\"\n",
        "  import scipy.stats as stats \n",
        "  #https://docs.scipy.org/doc/scipy/reference/generated/scipy.stats.zscore.html\n",
        "  df[\"Zscore_\"+Col] = stats.zscore(df[Col], axis=0, nan_policy='omit')\n",
        "\n",
        "  #https://pandas.pydata.org/docs/reference/api/pandas.DataFrame.std.html \n",
        "  # df[\"ZscoreManuel\"+Col] = (df[Col] - df[Col].mean())/df[Col].std(ddof=0) # Calcul Zscore Manuel\n",
        "  \n",
        "\n",
        "  Za=2.58 ;ZaConf=\"99%\" # Seuil Intervale  confiance 99%  \n",
        "  Zb=1.96 ;ZbConf=\"95%\"# seuil Intervale  confiance95%    \n",
        "  Zc=1.65 ;ZcConf=\"90%\"# seuil Intervale confiance 90%   \n",
        "  # Plus l'intervale est grand plus on s'éloigne de la moyenne et plus la proba de contenir un outlier est élevée. \n",
        "  \n",
        "  \"\"\"Calcul de l’intervalle de confiance : Le principe général d’un intervalle de confiance consiste à déterminer, \n",
        "  à partir de ce qui a été observé dans un sous-échantillon, un intervalle dans lequel la grandeur que l’on étudie,\n",
        "  au sein de la population dont est extrait l’échantillon, a de fortes chances de se situer. En l’occurrence, \n",
        "  il s’agit de déterminer un intervalle, connaissant la proportion p observée dans l’échantillon, \n",
        "  au sein duquel la proportion π réelle de la population étudiée se situe avec une probabilité égale à une valeur fixée à l’avance, \n",
        "  usuellement 95 %, et notée 1-α.\"\"\"\n",
        "\n",
        " \n",
        "  # https://www.math.u-bordeaux.fr/~mchabano/Tab0.pdf\n",
        "  # Zd=1.65 ;ZcConf=\"99,9%\"# seuil confiance 99%   risque erreur α = 0.1%\n",
        "  # source : https://pro.arcgis.com/fr/pro-app/2.7/tool-reference/spatial-statistics/what-is-a-z-score-what-is-a-p-value.htm\n",
        "  # source2 : https://joseph.larmarange.net/?Intervalle-de-confiance-bilateral#:~:text=Le%20plus%20souvent%2C%20les%20intervalles,z%3D%201%2C95996398454%20%E2%89%88%201%2C960\n",
        "  # Tables loi normale :  https://blog.univ-reunion.fr/alessioguarino/files/2016/08/Tables-Loi-Normale-test-Z-Khi2-Student.pdf\n",
        "  #  np.abs(z_score) > threshold:\n",
        "\n",
        "\n",
        "  # Colonne Interpration Zscore \n",
        "  ColRefName=\"Zscore_\"+Col # Nom Colonne de référence pour la segmentation\n",
        "  ColCatName=\"Seuil_IConF_Zscore\" # Nom Colonne Categorie\n",
        "  df[ColCatName]=\"?\"\n",
        "  df[ColRefName].fillna(0,inplace=True)\n",
        "  \n",
        "  df.loc[np.abs(df[ColRefName]) > Za , ColCatName] = \"Superieur à \"+ZaConf \n",
        "  df.loc[np.abs(df[ColRefName]) <= Za , ColCatName] = ZaConf    # utilisation de la Valeur Absolue (-za <= Seuil confiance <= Za )\n",
        "  df.loc[np.abs(df[ColRefName]) <= Zb , ColCatName] = ZbConf\n",
        "  df.loc[np.abs(df[ColRefName]) <= Zc , ColCatName] = ZcConf\n",
        "\n",
        "  df.sort_values(ColRefName, inplace=True)\n",
        "\n",
        "\n",
        "  print(ColRefName,ColCatName)\n",
        "  return df"
      ]
    },
    {
      "cell_type": "markdown",
      "metadata": {
        "id": "s3vKn5GTWKyN"
      },
      "source": [
        "####  Standardisation loi Normale :  "
      ]
    },
    {
      "cell_type": "code",
      "execution_count": null,
      "metadata": {
        "id": "V1d00EySXRdi"
      },
      "outputs": [],
      "source": [
        "# Standadisation d'une loi normale N(µ,σ)  :  Ramener un loi normale  à la la loi normale centrée réduite : N (0, 1)\n",
        "\n",
        "def Standardisation(X,µ,σ):\n",
        "  # Standardisation Formula :   \n",
        "  Z=(X-µ)/σ  # Z : Zscore  X:observation   µ: moyenne   σ : Ecart type\n",
        "\n",
        "  #https://www.youtube.com/watch?v=2tuBREK_mgE\n",
        "  #https://www.youtube.com/watch?v=mtbJbDwqWLE  : 68-95-99.7 Rule (5.2)\n",
        "  # Table Loi Normale Centrale reduite "
      ]
    },
    {
      "cell_type": "markdown",
      "metadata": {
        "id": "cOSElyVgigUg"
      },
      "source": [
        "####  Description loi Normale"
      ]
    },
    {
      "cell_type": "code",
      "execution_count": null,
      "metadata": {
        "id": "Ys7NgLMZzuc6"
      },
      "outputs": [],
      "source": [
        "def DescribeLoiNormale(df,Col): \n",
        " df_name = get_df_name(df)\n",
        "\n",
        " sns.histplot(df[Col], kde=True)\n",
        " print(pcolors.OK +\"Moyenne :\"+pcolors.RESET,df[Col].mean())\n",
        " print(pcolors.OK +\"Mediane :\"+pcolors.RESET,df[Col].median())\n",
        " print(pcolors.OK +\"Mode :\"+pcolors.RESET,df[Col].mode())\n",
        " print(pcolors.OK +\"Variance Corrigée :\"+pcolors.RESET,df[Col].var(ddof=0))\n",
        " print(pcolors.OK +\"Ecart type Corrigée :\"+pcolors.RESET,df[Col].std(ddof=0))\n",
        " print(pcolors.OK +\"Skew :\"+pcolors.RESET,df[Col].skew())\n",
        " print(pcolors.OK +\"Kurtosis :\"+pcolors.RESET,df[Col].kurtosis())\n",
        " df[Col].hist() ; plt.show()\n",
        "\n",
        " # Skewness empirique  : Mesure asymétrie Distribution\n",
        " γs = df[Col].skew()\n",
        "  #  γs== 0 #alors la distribution est symétrique.\n",
        "  #  γs>0 #alors la distribution est étalée à droite.\n",
        "  #  γs<0 #alors la distribution est étalée à gauche.\n",
        "  # Interpration Skewness  \n",
        " conditionlist = [\n",
        "    γs== 0, #alors la distribution est symétrique.\n",
        "    γs>0, #alors la distribution est étalée à droite.\n",
        "    γs<0 #alors la distribution est étalée à gauche \n",
        "    ]\n",
        " choicelist = ['la distribution est symétrique par rapport à la moyenne','Symétrie :  la distribution est étalée à droite','Symétrie :la distribution est étalée à gauche']\n",
        "\n",
        " Skewness_empiriqueResultat = np.select(conditionlist, choicelist, default='?')\n",
        " print(Skewness_empiriqueResultat)\n",
        "\n",
        "\n",
        " # Kurtosis empirique : Mesure Applatissement\n",
        " # L’aplatissement peut s’interpréter à la condition que la distribution soit symétrique !\n",
        " γk = df[Col].kurtosis() \n",
        " #  γk==0 # alors la distribution a le même aplatissement que la distribution normale.\n",
        " #  γk>0 # alors elle est moins aplatie que la distribution normale : les observations sont plus concentrées.\n",
        " #  γk<0 # alors les observations sont moins concentrées : la distribution est plus aplati\n",
        " \n",
        " conditionlist = [\n",
        "    γk == 0, # alors la distribution a le même aplatissement que la distribution normale.\n",
        "    γk>0, # alors elle est moins aplatie que la distribution normale : les observations sont plus concentrées.\n",
        "    γk<0 # alors les observations sont moins concentrées : la distribution est plus aplatie\n",
        "    ]\n",
        "\n",
        " choicelist = [\"Coefficient d'aplatissement (kurtosis): La distribution a le même aplatissement que la distribution normale centrée reduite.\",\n",
        "               \"La distribution est moins aplatie que la normale centrée reduite: les observations sont plus concentrées autour de la moyenne\",\n",
        "               \"Coefficient d'aplatissement (kurtosis) La distribution est la distribution est plus aplatie que la loi normale centrée reduite: les observations sont moins concentrées\"]\n",
        " \n",
        "\n",
        "\n",
        " Kurtosis_empiriqueResultat = np.select(conditionlist, choicelist, default='?')\n",
        " print(Kurtosis_empiriqueResultat)\n",
        "\n",
        " # Updgrade : Kurtosis is a measure of whether the data are heavy-tailed or light-tailed relative to a normal distribution."
      ]
    },
    {
      "cell_type": "markdown",
      "metadata": {
        "id": "zS8bPl9WiRDG"
      },
      "source": [
        "###### Test Fonctions"
      ]
    },
    {
      "cell_type": "code",
      "execution_count": null,
      "metadata": {
        "id": "LG0FrLM0h4Yo"
      },
      "outputs": [],
      "source": [
        "# TEST=scipy.stats.norm.pdf(np.linspace(0, 1, 100),8,3)\n",
        "# TEST"
      ]
    },
    {
      "cell_type": "code",
      "execution_count": null,
      "metadata": {
        "id": "Xq_vFTHLqj8g"
      },
      "outputs": [],
      "source": [
        "# DescribeLoiNormale(Global,\"AgeClient\")\n",
        "# Global.AgeClient"
      ]
    },
    {
      "cell_type": "markdown",
      "metadata": {
        "id": "Ll7rPM_NnUMf"
      },
      "source": [
        "#### Tests Normalité :  TestNorm(data,α)"
      ]
    },
    {
      "cell_type": "code",
      "execution_count": null,
      "metadata": {
        "id": "vcbyLxwCJzg6"
      },
      "outputs": [],
      "source": [
        "# Test normalité d'un échantillon \n",
        "def TestNorm(data,α):\n",
        " \"\"\" Test Normalité d'un echantillon  data array ou df[Col]\"\"\"\n",
        "\n",
        " sns.histplot(data, kde=True)\n",
        " # print(\"\\n\")\n",
        "\n",
        " N = len(data) # Taille échantillon \n",
        " # α=0.050 # niveau alpha 0.05 / 5% par defaut \n",
        " \n",
        " print(pcolors.WARNING +\"TEST alpa \",round(α*100,3),\"%\"+pcolors.RESET)\n",
        " print(\" \")\n",
        " \n",
        " #__________________________________________________________   \n",
        " #Test de Kolmogorov-Smirnov\n",
        " #https://fr.wikipedia.org/wiki/Test_de_Kolmogorov-Smirnov?tableofcontents=0\n",
        " # https://docs.scipy.org/doc/scipy/reference/generated/scipy.stats.kstest.html\n",
        "\n",
        " # Test Non parametrique sur des variables quantitatives\n",
        " #Attention test peut efficae dans les queues d e distribution  \n",
        " # Plus pertinant sur les petit echantillon que Kolmogorov-Smirnov\n",
        " # H0 (hypothese nulle): l'échantillon est issu d'une population normalement distribuée au risque alpha     \n",
        " # H1 (hypothese alternative): la p-value ne permet pas de conclure que l'échantillon est issu d'une population normalelement distribué\n",
        " #Interpretation du test : \n",
        " #  si la p-value est inférieure à un niveau alpha choisi (par exemple 0.05), alors l'hypothèse nulle est validé au risque alpha .\n",
        " #  si la p-value est supérieure au niveau alpha choisi (par exemple 0.05), alors on ne doit pas rejeter l'hypothèse nulle. La valeur de la p-value alors obtenue ne présuppose en rien de la nature de la distribution des données.\n",
        "\n",
        " TestKS = stats.kstest(data, 'norm', alternative='two-sided')  #alternative {‘two-sided’, ‘less’, ‘greater’},\n",
        "\n",
        " # print(TestKS ,TestKS[0],TestKS[1])\n",
        " # print(TestKS)\n",
        " print(pcolors.OK +\"Test normalité Kolmogorov-Smirnov:\"+pcolors.RESET,TestKS ,\"N:\",N)\n",
        " if TestKS[1]<= α: \n",
        "   print(\"L'échantillon est issu d'une population normalement distribuée au risque alpha (α\",α*100,\"%) N:\",N)\n",
        " else:\n",
        "    print(\"La valeur de la p-value obtenue (\",round(TestKS[1],4) ,\">\",α,\"') ne présupose en rien de la nature de la distribution des données.\")\n",
        " print(\"\\n\") \n",
        " \n",
        " #__________________________________________________________ \n",
        " # Test normalité Spicy Stat : Agostino’s K-squared \n",
        " # https://docs.scipy.org/doc/scipy/reference/generated/scipy.stats.normaltest.html\n",
        " # D’Agostino’s K-squared test check’s normality of a variable based on skewness and kurtosis. It was named by Ralph D’Agostino\n",
        " # N > 20 de préférence\n",
        "\n",
        " if N > 20 :\n",
        "  TestN = stats.normaltest(data, axis=0, nan_policy='propagate')\n",
        "\n",
        "  print(pcolors.OK +\"Test normalité Agostino’s K-squared :\"+pcolors.RESET,TestKS ,\" Echantillon de taile moyenne (>20) à grande) N:\",N)\n",
        "  if TestN[1]<= α: \n",
        "    print(\"L'échantillon est issu d'une population normalement distribuée au risque alpha (α\",α*100,\"%) N:\",N)\n",
        "  else:\n",
        "    print(\"La valeur de la p-value obtenue (\",round(TestN[1],4) ,\">\",α,\"') ne présupose en rien de la nature de la distribution des données.\")\n",
        " else : \n",
        "   print(\"Echantillon N trop petit (\",N,\"<20), \",pcolors.WARNING + \"Le test d'Agostino’s K-squared  n'est pas applicable\"+pcolors.RESET)\n",
        "\n",
        " print(\"\\n\") \n",
        " \n",
        " #__________________________________________________________ \n",
        "  #The Shapiro-Wilk test is a test of normality. It is used to determine whether or not a sample comes from a normal distribution.\n",
        "  #https://fr.wikipedia.org/wiki/Test_de_Shapiro-Wilk\n",
        "  #https://docs.scipy.org/doc/scipy/reference/generated/scipy.stats.shapiro.html\n",
        "\n",
        " TestSW = stats.shapiro(data)\n",
        " # Test Non parametrique sur des variables quantitatives\n",
        " # Plus pertinant sur les petits echantillon que Kolmogorov-Smirnov\n",
        " # H0 (hypothese nulle): l'échantillon est issu d'une population normalement distribuée au risque alpha     \n",
        " # H1 (hypothese alternative): la p-value ne permet pas de conclure que l'échantillon est issu d'une population normalement distribué\n",
        " #Interpretation du test :  si la p-value <= α H0 validé au risque α  |  #  si la p-value > α H0 rejeté \n",
        " if N < 50 :\n",
        "  print(pcolors.OK +\"Test normalité Shapiro-Wilk:\"+pcolors.RESET,\"(petit échantillon <50 observations) W:\", TestSW[0],\" p-value:\",TestSW[1],\"N:\",N)\n",
        "  if TestSW[1]<= α: \n",
        "   print(\"L'échantillon est issu d'une population normalement distribuée au risque alpha (α\",α*100,\"%)\")    \n",
        "  else:\n",
        "   print(\"La valeur de la p-value obtenue (\",round(TestSW[1],4) ,\">\",α,\"') ne présupose en rien de la nature de la distribution des données.\")\n",
        " else :\n",
        "   print(pcolors.OK +\"Test normalité Shapiro-Wilk:\"+pcolors.RESET,pcolors.WARNING +\"(\",N, \">50 observations !)\"+pcolors.RESET,\" W:\", TestSW[0],\" p-value:\",TestSW[1],\"N:\",N)\n",
        "   if TestSW[1]<= α: \n",
        "    print(\"L'échantillon est issu d'une population normalement distribuée au risque alpha (α\",α*100,\"%)\",pcolors.WARNING +\" Attention fiabilité ? : Trop d'observations\"+pcolors.RESET,\"(\",N, \">50 )\")    \n",
        "   else:\n",
        "    print(\"La valeur de la p-value obtenue (\",round(TestSW[1],4) ,\">\",α,\"') ne présupose en rien de la nature de la distribution des données.\",pcolors.WARNING +\" Attention fiabilité ? : Trop d'observations\"+pcolors.RESET,\"(\",N, \">50 )\")\n",
        "\n",
        " print(\"\\n\")\n",
        "\n",
        " #__________________________________________________________  \n",
        " # test Khi carré our Chi square\n",
        " # https://docs.scipy.org/doc/scipy/reference/generated/scipy.stats.chisquare.html\n",
        " # https://oraprdnt.uqtr.uquebec.ca/Gscdepot/paf1010/18/M12.pdf\n",
        "\n",
        " TestChiSquare = stats.chisquare(data, axis=None)\n",
        "\n",
        " print(pcolors.OK +\"Test normalité Chi square:\"+pcolors.RESET,\" ( Observations >0 & Max 20% <5)\", \"res.:\", TestChiSquare[0],\" p-value:\",TestChiSquare[1],\"N:\",N)\n",
        " if TestSW[1]>= α: \n",
        "   print(\"L'échantillon est issu d'une population normalement distribuée au risque alpha (α\",α*100,\"%)\")    \n",
        " else:\n",
        "  print(\"La valeur de la p-value obtenue (\",round(TestChiSquare[1],4) ,\">\",α,\"') ne présupose en rien de la nature de la distribution des données.\")\n",
        "\n",
        " print(\"\\n\")\n",
        " \n",
        "\n",
        "\n",
        " #__________________________________________________________  \n",
        " #Le test de Lilliefors:  #https://lemakistatheux.wordpress.com/2013/05/09/le-test-de-kolmogorov-smirnov/\n",
        " # A utiliser si la moyenne et l'ecart type ne sont pas connus\n",
        "\n",
        " from statsmodels.stats.diagnostic import lilliefors\n",
        "\n",
        " # H0 (hypothese nulle): l'échantillon est issu d'une population normalement distribuée au risque alpha     \n",
        " # H1 (hypothese alternative): la p-value ne permet pas de conclure que l'échantillon est issu d'une population normalement distribué\n",
        " # If the pvalue is lower than some threshold, e.g. 0.05, then we can reject the Null hypothesis that the sample comes from a normal distribution.\n",
        " # p-value may not be accurate for N > 5000.\n",
        "  \n",
        " if N < 5000 :\n",
        "\n",
        "   # https://docs.python.org/fr/3.5/tutorial/errors.html\n",
        "   # https://www.delftstack.com/fr/howto/python/manually-raise-exceptions-in-python/\n",
        "   try:\n",
        "    TestLF = lilliefors(data, dist='norm', pvalmethod='table')\n",
        "    \n",
        "    print(TestLF)\n",
        "   except Exception as e:\n",
        "    print(pcolors.WARNING + \"Exception Test normalité Lilliefors : \" + repr(e)) + pcolors.RESET; TestLF=[0,1]    \n",
        "    pass\n",
        "\n",
        "    # Fin gestiion exceptin \n",
        "\n",
        "  #  TestLF = lilliefors(data, dist='norm', pvalmethod='table')     #{‘norm’, ‘exp’}, optional\n",
        "   # https://www.statsmodels.org/dev/generated/statsmodels.stats.diagnostic.lilliefors.html\n",
        "   # https://www.statsmodels.org/dev/generated/statsmodels.stats.diagnostic.lilliefors.html?highlight=lilliefors\n",
        "\n",
        "   print(pcolors.OK +\"Test normalité Lilliefors:\"+pcolors.RESET,\" (ni espérance μ ni l'écart type σ ne sont connus) ksstat:\", TestLF[0],\" p-value:\",TestLF[1],\"N:\",N)\n",
        "   if TestLF[1]<= α: \n",
        "     print(\"L'échantillon est issu d'une population normalement distribuée au risque alpha (α\",α*100,\"%)\")\n",
        "   else:\n",
        "     print(\"La valeur de la p-value obtenue (\",round(TestLF[1],4) ,\">\",α,\"') ne présupose en rien de la nature de la distribution des données.\")\n",
        "     #\n",
        " else: \n",
        "   print(pcolors.WARNING +\"Echantillon N trop grand\"+pcolors.RESET, \"(\",N,\">5000), \",pcolors.OK + \"Le test de Lilliefors n'est pas applicable\"+pcolors.RESET)\n",
        "   \n",
        "   \n",
        "\n",
        " print(\"\\n\")\n",
        " \n",
        "  #__________________________________________________________  \n",
        "  # #Le test de Kuiper ( Non parametrique, plus sensible que le Kolmogorov-Smirnov sur les queue de distributions)\n",
        "  # # Ne fonctionne pas avec les loi de poisson \n",
        "  # # https://docs.astropy.org/en/stable/api/astropy.stats.kuiper.html\n",
        " \n",
        " \n",
        "\n",
        " #__________________________________________________________  \n",
        " #https://fr.wikipedia.org/wiki/Test_statistique\n",
        " # https://lemakistatheux.wordpress.com/2013/05/09/le-test-de-kolmogorov-smirnov/\n",
        " # https://towardsdatascience.com/normality-tests-in-python-31e04aa4f411"
      ]
    },
    {
      "cell_type": "markdown",
      "metadata": {
        "id": "PaWRfT1pJh7A"
      },
      "source": [
        "###### Test distributions "
      ]
    },
    {
      "cell_type": "code",
      "execution_count": null,
      "metadata": {
        "id": "0Ek3bYUOTvlM",
        "colab": {
          "base_uri": "https://localhost:8080/",
          "height": 1000
        },
        "outputId": "e2fc45a2-97ca-47f6-e39c-bfc3f4fe5176"
      },
      "outputs": [
        {
          "output_type": "stream",
          "name": "stdout",
          "text": [
            "\u001b[91mDistrution Test :\u001b[0m Loi Poisson N13\n",
            "\u001b[93mTEST alpa  0.01 %\u001b[0m\n",
            " \n",
            "\u001b[92mTest normalité Kolmogorov-Smirnov:\u001b[0m KstestResult(statistic=1.0, pvalue=0.0) N: 13000\n",
            "L'échantillon est issu d'une population normalement distribuée au risque alpha (α 0.01 %) N: 13000\n",
            "\n",
            "\n",
            "\u001b[92mTest normalité Agostino’s K-squared :\u001b[0m KstestResult(statistic=1.0, pvalue=0.0)  Echantillon de taile moyenne (>20) à grande) N: 13000\n",
            "L'échantillon est issu d'une population normalement distribuée au risque alpha (α 0.01 %) N: 13000\n",
            "\n",
            "\n",
            "\u001b[92mTest normalité Shapiro-Wilk:\u001b[0m \u001b[93m( 13000 >50 observations !)\u001b[0m  W: 0.9952625632286072  p-value: 3.573384703312134e-20 N: 13000\n",
            "L'échantillon est issu d'une population normalement distribuée au risque alpha (α 0.01 %) \u001b[93m Attention fiabilité ? : Trop d'observations\u001b[0m ( 13000 >50 )\n",
            "\n",
            "\n",
            "\u001b[92mTest normalité Chi square:\u001b[0m  ( Observations >0 & Max 20% <5) res.: 13052.802934666775  p-value: 0.36792335286108824 N: 13000\n",
            "La valeur de la p-value obtenue ( 0.3679 > 0.0001 ') ne présupose en rien de la nature de la distribution des données.\n",
            "\n",
            "\n",
            "\u001b[93mEchantillon N trop grand\u001b[0m ( 13000 >5000),  \u001b[92mLe test de Lilliefors n'est pas applicable\u001b[0m\n",
            "\n",
            "\n",
            "\u001b[91mDistrution Test :\u001b[0m Loi Poisson N13\n"
          ]
        },
        {
          "output_type": "stream",
          "name": "stderr",
          "text": [
            "/usr/local/lib/python3.7/dist-packages/scipy/stats/morestats.py:1676: UserWarning:\n",
            "\n",
            "p-value may not be accurate for N > 5000.\n",
            "\n"
          ]
        },
        {
          "output_type": "stream",
          "name": "stdout",
          "text": [
            "\u001b[93mTEST alpa  5.0 %\u001b[0m\n",
            " \n",
            "\u001b[92mTest normalité Kolmogorov-Smirnov:\u001b[0m KstestResult(statistic=1.0, pvalue=0.0) N: 13000\n",
            "L'échantillon est issu d'une population normalement distribuée au risque alpha (α 5.0 %) N: 13000\n",
            "\n",
            "\n",
            "\u001b[92mTest normalité Agostino’s K-squared :\u001b[0m KstestResult(statistic=1.0, pvalue=0.0)  Echantillon de taile moyenne (>20) à grande) N: 13000\n",
            "L'échantillon est issu d'une population normalement distribuée au risque alpha (α 5.0 %) N: 13000\n",
            "\n",
            "\n",
            "\u001b[92mTest normalité Shapiro-Wilk:\u001b[0m \u001b[93m( 13000 >50 observations !)\u001b[0m  W: 0.9952625632286072  p-value: 3.573384703312134e-20 N: 13000\n",
            "L'échantillon est issu d'une population normalement distribuée au risque alpha (α 5.0 %) \u001b[93m Attention fiabilité ? : Trop d'observations\u001b[0m ( 13000 >50 )\n",
            "\n",
            "\n",
            "\u001b[92mTest normalité Chi square:\u001b[0m  ( Observations >0 & Max 20% <5) res.: 13052.802934666775  p-value: 0.36792335286108824 N: 13000\n",
            "La valeur de la p-value obtenue ( 0.3679 > 0.05 ') ne présupose en rien de la nature de la distribution des données.\n",
            "\n",
            "\n",
            "\u001b[93mEchantillon N trop grand\u001b[0m ( 13000 >5000),  \u001b[92mLe test de Lilliefors n'est pas applicable\u001b[0m\n",
            "\n",
            "\n",
            "\u001b[91mDistrution Test :\u001b[0m Loi Poisson N13\n"
          ]
        },
        {
          "output_type": "stream",
          "name": "stderr",
          "text": [
            "/usr/local/lib/python3.7/dist-packages/scipy/stats/morestats.py:1676: UserWarning:\n",
            "\n",
            "p-value may not be accurate for N > 5000.\n",
            "\n"
          ]
        },
        {
          "output_type": "stream",
          "name": "stdout",
          "text": [
            "\u001b[93mTEST alpa  10.0 %\u001b[0m\n",
            " \n",
            "\u001b[92mTest normalité Kolmogorov-Smirnov:\u001b[0m KstestResult(statistic=1.0, pvalue=0.0) N: 13000\n",
            "L'échantillon est issu d'une population normalement distribuée au risque alpha (α 10.0 %) N: 13000\n",
            "\n",
            "\n",
            "\u001b[92mTest normalité Agostino’s K-squared :\u001b[0m KstestResult(statistic=1.0, pvalue=0.0)  Echantillon de taile moyenne (>20) à grande) N: 13000\n",
            "L'échantillon est issu d'une population normalement distribuée au risque alpha (α 10.0 %) N: 13000\n",
            "\n",
            "\n",
            "\u001b[92mTest normalité Shapiro-Wilk:\u001b[0m \u001b[93m( 13000 >50 observations !)\u001b[0m  W: 0.9952625632286072  p-value: 3.573384703312134e-20 N: 13000\n",
            "L'échantillon est issu d'une population normalement distribuée au risque alpha (α 10.0 %) \u001b[93m Attention fiabilité ? : Trop d'observations\u001b[0m ( 13000 >50 )\n",
            "\n",
            "\n",
            "\u001b[92mTest normalité Chi square:\u001b[0m  ( Observations >0 & Max 20% <5) res.: 13052.802934666775  p-value: 0.36792335286108824 N: 13000\n",
            "La valeur de la p-value obtenue ( 0.3679 > 0.1 ') ne présupose en rien de la nature de la distribution des données.\n",
            "\n",
            "\n",
            "\u001b[93mEchantillon N trop grand\u001b[0m ( 13000 >5000),  \u001b[92mLe test de Lilliefors n'est pas applicable\u001b[0m\n",
            "\n",
            "\n",
            "\u001b[91mDistrution Test :\u001b[0m Loi Poisson N13\n"
          ]
        },
        {
          "output_type": "stream",
          "name": "stderr",
          "text": [
            "/usr/local/lib/python3.7/dist-packages/scipy/stats/morestats.py:1676: UserWarning:\n",
            "\n",
            "p-value may not be accurate for N > 5000.\n",
            "\n"
          ]
        },
        {
          "output_type": "stream",
          "name": "stdout",
          "text": [
            "\u001b[93mTEST alpa  99.99 %\u001b[0m\n",
            " \n",
            "\u001b[92mTest normalité Kolmogorov-Smirnov:\u001b[0m KstestResult(statistic=1.0, pvalue=0.0) N: 13000\n",
            "L'échantillon est issu d'une population normalement distribuée au risque alpha (α 99.99 %) N: 13000\n",
            "\n",
            "\n",
            "\u001b[92mTest normalité Agostino’s K-squared :\u001b[0m KstestResult(statistic=1.0, pvalue=0.0)  Echantillon de taile moyenne (>20) à grande) N: 13000\n",
            "L'échantillon est issu d'une population normalement distribuée au risque alpha (α 99.99 %) N: 13000\n",
            "\n",
            "\n",
            "\u001b[92mTest normalité Shapiro-Wilk:\u001b[0m \u001b[93m( 13000 >50 observations !)\u001b[0m  W: 0.9952625632286072  p-value: 3.573384703312134e-20 N: 13000\n",
            "L'échantillon est issu d'une population normalement distribuée au risque alpha (α 99.99 %) \u001b[93m Attention fiabilité ? : Trop d'observations\u001b[0m ( 13000 >50 )\n",
            "\n",
            "\n",
            "\u001b[92mTest normalité Chi square:\u001b[0m  ( Observations >0 & Max 20% <5) res.: 13052.802934666775  p-value: 0.36792335286108824 N: 13000\n",
            "La valeur de la p-value obtenue ( 0.3679 > 0.9999 ') ne présupose en rien de la nature de la distribution des données.\n",
            "\n",
            "\n",
            "\u001b[93mEchantillon N trop grand\u001b[0m ( 13000 >5000),  \u001b[92mLe test de Lilliefors n'est pas applicable\u001b[0m\n",
            "\n",
            "\n"
          ]
        },
        {
          "output_type": "stream",
          "name": "stderr",
          "text": [
            "/usr/local/lib/python3.7/dist-packages/scipy/stats/morestats.py:1676: UserWarning:\n",
            "\n",
            "p-value may not be accurate for N > 5000.\n",
            "\n"
          ]
        },
        {
          "output_type": "display_data",
          "data": {
            "text/plain": [
              "<Figure size 432x288 with 1 Axes>"
            ],
            "image/png": "[encoded data removed]"
          },
          "metadata": {}
        }
      ],
      "source": [
        "# DEBUG data distributions test  Simul  Variable quantitatives\n",
        "\n",
        "# Choisir une distrubution Test \n",
        "# ~~~~~~~~~~~~~~~~~~~~~~~~~~~~~~~~~~\n",
        "#Loi Normale \n",
        "#np.random.normal(mu, sigma, 1000) https://numpy.org/doc/stable/reference/random/generated/numpy.random.normal.html\n",
        "# data= np.random.normal(0, 1, 100) ; label=\"Loi Normale Centrée Réduite\" \n",
        "# data= np.random.normal(80, 9, 6000) ; label=\"Loi Normale N6000\"\n",
        "from random import gauss\n",
        "# data = [gauss(100,15) for i in range(300)] ; label=\"Loi Gauss N300\"\n",
        "# data = [gauss(100,15) for i in range(100)]  ; label=\"Loi Normale N100\"\n",
        "\n",
        "#Loi Binomiale\n",
        "# https://numpy.org/doc/stable/reference/random/generated/numpy.random.binomial.html\n",
        "n, p = 10, .5  # number of trials, probability of each trial ;\n",
        "# data = np.random.binomial(n, p, 30) ; label=\"Loi Binon\"  \n",
        "\n",
        "#Loi de Poisson\n",
        "# https://fr.wikipedia.org/wiki/Loi_de_Poisson  #https://blog.minitab.com/fr/que-sont-les-tests-de-poisson-a-un-ou-deux-echantillons#:~:text=Ces%20tests%20permettent%20d'effectuer,d'une%20loi%20de%20Poisson.\n",
        "data = np.random.poisson(30, 13000) ; label=\"Loi Poisson N13\"\n",
        "# data = np.random.poisson(30,1000); label=\"Loi Poisson N1000\"\n",
        "\n",
        "\n",
        "#Loi de Student\n",
        "# https://numpy.org/doc/stable/reference/random/generated/numpy.random.standard_t.html\n",
        "# data = np.random.standard_t(10, size=40)\n",
        "\n",
        "\n",
        "#Distibution aléatoire \n",
        "# random.randint(low, high=None, size=None, dtype=int)  https://numpy.org/doc/stable/reference/random/generated/numpy.random.randint.html\n",
        "# data = np.random.randint(0, high=1, size=500, dtype=int) ;label=\"Radom 0-1 int\" \n",
        "# data = np.random.randint(-50, high=1000000, size=10, dtype=int) ;label=\"Radom  int\" \n",
        "# data =np.random.random(50) ;label=\"Radom  int\"\n",
        "# data = np.random.randn(100) ;label=\"Radom  int\" \n",
        "\n",
        "#Distribution Exponentielle \n",
        "# https://numpy.org/doc/stable/reference/random/generated/numpy.random.Generator.exponential.html\n",
        "# data = np.random.exponential(scale=3.0, size=50) ;label=\"Exponentielle\"\n",
        "\n",
        "#Distribution Pareto \n",
        "# https://numpy.org/doc/stable/reference/random/generated/numpy.random.pareto.html\n",
        "a, m = 3., 2.  # shape and mode\n",
        "# data = (np.random.pareto(a, 100) + 1) * m ;label=\"Pareto\"\n",
        "\n",
        "# ~~~~~~~~~~~~~~~~~~~~~~~~~~~~~~~~~~\n",
        "# print(pcolors.FAIL+\"Distrution Test :\"+pcolors.RESET,label)\n",
        "# sns.histplot(data, kde=True)\n",
        "\n",
        "αListe = (0.0001,0.05,0.1,0.9999)\n",
        "for α in αListe :\n",
        "  print(pcolors.FAIL+\"Distrution Test :\"+pcolors.RESET,label)\n",
        "  TestNorm(data,α)"
      ]
    },
    {
      "cell_type": "code",
      "execution_count": null,
      "metadata": {
        "id": "aPK3NWJhcNLA",
        "colab": {
          "base_uri": "https://localhost:8080/",
          "height": 702
        },
        "outputId": "3407c2ee-4278-46c9-cb54-af0d4b77266f"
      },
      "outputs": [
        {
          "output_type": "stream",
          "name": "stdout",
          "text": [
            "\u001b[93mTEST alpa  0.1 %\u001b[0m\n",
            " \n",
            "\u001b[92mTest normalité Kolmogorov-Smirnov:\u001b[0m KstestResult(statistic=1.0, pvalue=0.0) N: 13000\n",
            "L'échantillon est issu d'une population normalement distribuée au risque alpha (α 0.1 %) N: 13000\n",
            "\n",
            "\n",
            "\u001b[92mTest normalité Agostino’s K-squared :\u001b[0m KstestResult(statistic=1.0, pvalue=0.0)  Echantillon de taile moyenne (>20) à grande) N: 13000\n",
            "L'échantillon est issu d'une population normalement distribuée au risque alpha (α 0.1 %) N: 13000\n",
            "\n",
            "\n",
            "\u001b[92mTest normalité Shapiro-Wilk:\u001b[0m \u001b[93m( 13000 >50 observations !)\u001b[0m  W: 0.9952625632286072  p-value: 3.573384703312134e-20 N: 13000\n",
            "L'échantillon est issu d'une population normalement distribuée au risque alpha (α 0.1 %) \u001b[93m Attention fiabilité ? : Trop d'observations\u001b[0m ( 13000 >50 )\n",
            "\n",
            "\n",
            "\u001b[92mTest normalité Chi square:\u001b[0m  ( Observations >0 & Max 20% <5) res.: 13052.802934666775  p-value: 0.36792335286108824 N: 13000\n",
            "La valeur de la p-value obtenue ( 0.3679 > 0.001 ') ne présupose en rien de la nature de la distribution des données.\n",
            "\n",
            "\n",
            "\u001b[93mEchantillon N trop grand\u001b[0m ( 13000 >5000),  \u001b[92mLe test de Lilliefors n'est pas applicable\u001b[0m\n",
            "\n",
            "\n"
          ]
        },
        {
          "output_type": "stream",
          "name": "stderr",
          "text": [
            "/usr/local/lib/python3.7/dist-packages/scipy/stats/morestats.py:1676: UserWarning:\n",
            "\n",
            "p-value may not be accurate for N > 5000.\n",
            "\n"
          ]
        },
        {
          "output_type": "display_data",
          "data": {
            "text/plain": [
              "<Figure size 432x288 with 1 Axes>"
            ],
            "image/png": "[encoded data removed]"
          },
          "metadata": {}
        }
      ],
      "source": [
        "\n",
        "α = 0.001\n",
        "TestNorm(data,α)\n"
      ]
    },
    {
      "cell_type": "markdown",
      "metadata": {
        "id": "Sugqr1WuYI2d"
      },
      "source": [
        "#### Test Correlation  Var Qualitative:  Test de χ² (khi2) "
      ]
    },
    {
      "cell_type": "code",
      "execution_count": null,
      "metadata": {
        "id": "iRiZRJcjUK0d"
      },
      "outputs": [],
      "source": [
        "def TableauContingence(df,Col_I,Col_II):\n",
        " \"\"\"Afficher un tableau de contigence pour etudier la relation entre deux variabes qualitatives TableauContingence(df,Col_I,Col_II)   \n",
        " df : DataFrame   \"Col_I\" : Colonne1  \"Col_II\" : Colonne2  \"\"\"\n",
        " df_name = get_df_name(df)\n",
        " X = Col_I ;  Y = Col_II\n",
        " df[Col_I]\n",
        "\n",
        " ContTable = df[[X,Y]].pivot_table(index=X,columns=Y,aggfunc=len,margins=True,margins_name=\"Total\").fillna(0)\n",
        " print(pcolors.OK +\"Tableau contigence : \"+pcolors.RESET,\"ContTable - \",df_name,\"(\",Col_I,\"&\",Col_II,\")\")\n",
        " print(\"_________________________________________________________________\")\n",
        "\n",
        " \n",
        " df = ContTable.copy()\n",
        " df.columns=df.columns.to_flat_index() # colonnes => concatener le multi index en un index simple https://datascientyst.com/flatten-multiindex-in-pandas/\n",
        " df=df.reset_index() # Conversion Index en colonnes simples   #4074 rows × 7 columns\n",
        " \n",
        " return ContTable\n",
        " \n",
        " #  sns.heatmap(df, annot=True, fmt=\"d\", linewidths=.5, ax=ax, cmap=\"YlGnBu\")\n",
        "# https://seaborn.pydata.org/generated/seaborn.heatmap.html # https://seaborn.pydata.org/tutorial/color_palettes.html\n",
        "#\n"
      ]
    },
    {
      "cell_type": "code",
      "execution_count": null,
      "metadata": {
        "id": "tZWxdiRyfVul"
      },
      "outputs": [],
      "source": [
        "#Test de χ² (khi2) a été réalisé dans le cas d’une corrélation entre deux variables qualitatives ;\n",
        "# Test du χ2 d'indépendance \n",
        "def  Khi2Test(df,Col_I,Col_II):\n",
        " print(\"Khi 2\")\n",
        "\n",
        " # Min 20 individus dans l'échantillon\n",
        "\n",
        " #https://fr.wikipedia.org/wiki/Test_du_%CF%87%C2%B2\n",
        " #https://docs.scipy.org/doc/scipy/reference/generated/scipy.stats.chi2_contingency.html?highlight=chi#scipy.stats.chi2_contingency\n",
        " \n",
        "  # https://docs.scipy.org/doc/scipy/reference/generated/scipy.stats.chisquare.html\n",
        "  # https://www.ibm.com/docs/fr/spss-statistics/SaaS?topic=statistics-tests-independence-chi-square\n",
        "  # https://lms.fun-mooc.fr/asset-v1:grenoblealpes+92001+session01+type@asset+block/mod6-cap2.pdf\n",
        "  "
      ]
    },
    {
      "cell_type": "code",
      "execution_count": null,
      "metadata": {
        "id": "jhc0-fK1PIGQ"
      },
      "outputs": [],
      "source": [
        "# test de Student \n",
        "# https://www.investopedia.com/terms/z/z-test.asp\n",
        "# https://machinelearningmastery.com/how-to-code-the-students-t-test-from-scratch-in-python/#:~:text=The%20number%20of%20degrees%20of,in%20both%20samples%2C%20minus%20two.&text=The%20critical%20value%20can%20be%20calculated%20using%20the%20percent%20point,0.05%20(95%25%20confidence)."
      ]
    },
    {
      "cell_type": "code",
      "source": [
        "df= pd.util.testing.makeMissingDataframe()\n",
        "df = reduce_mem_usage(df)"
      ],
      "metadata": {
        "colab": {
          "base_uri": "https://localhost:8080/"
        },
        "id": "McrdtunACPIi",
        "outputId": "d35c8788-dd7a-454f-ac19-fc05f3f313e0"
      },
      "execution_count": null,
      "outputs": [
        {
          "output_type": "stream",
          "name": "stdout",
          "text": [
            "Memory usage of dataframe is 0.00MB\n",
            "Memory usage after optimization is: 0.00MB\n",
            "Decreased by 60.0%\n"
          ]
        }
      ]
    },
    {
      "cell_type": "code",
      "execution_count": null,
      "metadata": {
        "id": "Sq-iSPEwYIaS",
        "colab": {
          "base_uri": "https://localhost:8080/",
          "height": 716
        },
        "outputId": "d01efc94-671d-4e5c-8fc4-d2cb1baae816"
      },
      "outputs": [
        {
          "output_type": "stream",
          "name": "stdout",
          "text": [
            "   A    B   C     D         \n",
            "0  0.0  0.0  foo1 2009-01-01\n",
            "1  1.0  1.0  foo2 2009-01-02\n",
            "2  2.0  0.0  foo3 2009-01-05\n",
            "3  3.0  1.0  foo4 2009-01-06\n",
            "4  4.0  0.0  foo5 2009-01-07\n",
            "\n",
            "\n",
            "\u001b[92mTableau contigence : \u001b[0m ContTable -  df ( C & A )\n",
            "_________________________________________________________________\n"
          ]
        },
        {
          "output_type": "display_data",
          "data": {
            "text/html": [
              "<html>\n",
              "<head><meta charset=\"utf-8\" /></head>\n",
              "<body>\n",
              "    <div>            <script src=\"https://cdnjs.cloudflare.com/ajax/libs/mathjax/2.7.5/MathJax.js?config=TeX-AMS-MML_SVG\"></script><script type=\"text/javascript\">if (window.MathJax) {MathJax.Hub.Config({SVG: {font: \"STIX-Web\"}});}</script>                <script type=\"text/javascript\">window.PlotlyConfig = {MathJaxConfig: 'local'};</script>\n",
              "        <script src=\"https://cdn.plot.ly/plotly-2.8.3.min.js\"></script>                <div id=\"7dbfd235-33cf-473b-9cc3-02366fd7b99f\" class=\"plotly-graph-div\" style=\"height:525px; width:100%;\"></div>            <script type=\"text/javascript\">                                    window.PLOTLYENV=window.PLOTLYENV || {};                                    if (document.getElementById(\"7dbfd235-33cf-473b-9cc3-02366fd7b99f\")) {                    Plotly.newPlot(                        \"7dbfd235-33cf-473b-9cc3-02366fd7b99f\",                        [{\"coloraxis\":\"coloraxis\",\"name\":\"0\",\"texttemplate\":\"%{z}\",\"x\":[0.0,1.0,2.0,3.0,4.0,\"Total\"],\"y\":[\"foo1\",\"foo2\",\"foo3\",\"foo4\",\"foo5\",\"Total\"],\"z\":[[1.0,0.0,0.0,0.0,0.0,1.0],[0.0,1.0,0.0,0.0,0.0,1.0],[0.0,0.0,1.0,0.0,0.0,1.0],[0.0,0.0,0.0,1.0,0.0,1.0],[0.0,0.0,0.0,0.0,1.0,1.0],[1.0,1.0,1.0,1.0,1.0,5.0]],\"type\":\"heatmap\",\"xaxis\":\"x\",\"yaxis\":\"y\",\"hovertemplate\":\"A: %{x}<br>C: %{y}<br>color: %{z}<extra></extra>\"}],                        {\"template\":{\"data\":{\"bar\":[{\"error_x\":{\"color\":\"#2a3f5f\"},\"error_y\":{\"color\":\"#2a3f5f\"},\"marker\":{\"line\":{\"color\":\"#E5ECF6\",\"width\":0.5},\"pattern\":{\"fillmode\":\"overlay\",\"size\":10,\"solidity\":0.2}},\"type\":\"bar\"}],\"barpolar\":[{\"marker\":{\"line\":{\"color\":\"#E5ECF6\",\"width\":0.5},\"pattern\":{\"fillmode\":\"overlay\",\"size\":10,\"solidity\":0.2}},\"type\":\"barpolar\"}],\"carpet\":[{\"aaxis\":{\"endlinecolor\":\"#2a3f5f\",\"gridcolor\":\"white\",\"linecolor\":\"white\",\"minorgridcolor\":\"white\",\"startlinecolor\":\"#2a3f5f\"},\"baxis\":{\"endlinecolor\":\"#2a3f5f\",\"gridcolor\":\"white\",\"linecolor\":\"white\",\"minorgridcolor\":\"white\",\"startlinecolor\":\"#2a3f5f\"},\"type\":\"carpet\"}],\"choropleth\":[{\"colorbar\":{\"outlinewidth\":0,\"ticks\":\"\"},\"type\":\"choropleth\"}],\"contour\":[{\"colorbar\":{\"outlinewidth\":0,\"ticks\":\"\"},\"colorscale\":[[0.0,\"#0d0887\"],[0.1111111111111111,\"#46039f\"],[0.2222222222222222,\"#7201a8\"],[0.3333333333333333,\"#9c179e\"],[0.4444444444444444,\"#bd3786\"],[0.5555555555555556,\"#d8576b\"],[0.6666666666666666,\"#ed7953\"],[0.7777777777777778,\"#fb9f3a\"],[0.8888888888888888,\"#fdca26\"],[1.0,\"#f0f921\"]],\"type\":\"contour\"}],\"contourcarpet\":[{\"colorbar\":{\"outlinewidth\":0,\"ticks\":\"\"},\"type\":\"contourcarpet\"}],\"heatmap\":[{\"colorbar\":{\"outlinewidth\":0,\"ticks\":\"\"},\"colorscale\":[[0.0,\"#0d0887\"],[0.1111111111111111,\"#46039f\"],[0.2222222222222222,\"#7201a8\"],[0.3333333333333333,\"#9c179e\"],[0.4444444444444444,\"#bd3786\"],[0.5555555555555556,\"#d8576b\"],[0.6666666666666666,\"#ed7953\"],[0.7777777777777778,\"#fb9f3a\"],[0.8888888888888888,\"#fdca26\"],[1.0,\"#f0f921\"]],\"type\":\"heatmap\"}],\"heatmapgl\":[{\"colorbar\":{\"outlinewidth\":0,\"ticks\":\"\"},\"colorscale\":[[0.0,\"#0d0887\"],[0.1111111111111111,\"#46039f\"],[0.2222222222222222,\"#7201a8\"],[0.3333333333333333,\"#9c179e\"],[0.4444444444444444,\"#bd3786\"],[0.5555555555555556,\"#d8576b\"],[0.6666666666666666,\"#ed7953\"],[0.7777777777777778,\"#fb9f3a\"],[0.8888888888888888,\"#fdca26\"],[1.0,\"#f0f921\"]],\"type\":\"heatmapgl\"}],\"histogram\":[{\"marker\":{\"pattern\":{\"fillmode\":\"overlay\",\"size\":10,\"solidity\":0.2}},\"type\":\"histogram\"}],\"histogram2d\":[{\"colorbar\":{\"outlinewidth\":0,\"ticks\":\"\"},\"colorscale\":[[0.0,\"#0d0887\"],[0.1111111111111111,\"#46039f\"],[0.2222222222222222,\"#7201a8\"],[0.3333333333333333,\"#9c179e\"],[0.4444444444444444,\"#bd3786\"],[0.5555555555555556,\"#d8576b\"],[0.6666666666666666,\"#ed7953\"],[0.7777777777777778,\"#fb9f3a\"],[0.8888888888888888,\"#fdca26\"],[1.0,\"#f0f921\"]],\"type\":\"histogram2d\"}],\"histogram2dcontour\":[{\"colorbar\":{\"outlinewidth\":0,\"ticks\":\"\"},\"colorscale\":[[0.0,\"#0d0887\"],[0.1111111111111111,\"#46039f\"],[0.2222222222222222,\"#7201a8\"],[0.3333333333333333,\"#9c179e\"],[0.4444444444444444,\"#bd3786\"],[0.5555555555555556,\"#d8576b\"],[0.6666666666666666,\"#ed7953\"],[0.7777777777777778,\"#fb9f3a\"],[0.8888888888888888,\"#fdca26\"],[1.0,\"#f0f921\"]],\"type\":\"histogram2dcontour\"}],\"mesh3d\":[{\"colorbar\":{\"outlinewidth\":0,\"ticks\":\"\"},\"type\":\"mesh3d\"}],\"parcoords\":[{\"line\":{\"colorbar\":{\"outlinewidth\":0,\"ticks\":\"\"}},\"type\":\"parcoords\"}],\"pie\":[{\"automargin\":true,\"type\":\"pie\"}],\"scatter\":[{\"marker\":{\"colorbar\":{\"outlinewidth\":0,\"ticks\":\"\"}},\"type\":\"scatter\"}],\"scatter3d\":[{\"line\":{\"colorbar\":{\"outlinewidth\":0,\"ticks\":\"\"}},\"marker\":{\"colorbar\":{\"outlinewidth\":0,\"ticks\":\"\"}},\"type\":\"scatter3d\"}],\"scattercarpet\":[{\"marker\":{\"colorbar\":{\"outlinewidth\":0,\"ticks\":\"\"}},\"type\":\"scattercarpet\"}],\"scattergeo\":[{\"marker\":{\"colorbar\":{\"outlinewidth\":0,\"ticks\":\"\"}},\"type\":\"scattergeo\"}],\"scattergl\":[{\"marker\":{\"colorbar\":{\"outlinewidth\":0,\"ticks\":\"\"}},\"type\":\"scattergl\"}],\"scattermapbox\":[{\"marker\":{\"colorbar\":{\"outlinewidth\":0,\"ticks\":\"\"}},\"type\":\"scattermapbox\"}],\"scatterpolar\":[{\"marker\":{\"colorbar\":{\"outlinewidth\":0,\"ticks\":\"\"}},\"type\":\"scatterpolar\"}],\"scatterpolargl\":[{\"marker\":{\"colorbar\":{\"outlinewidth\":0,\"ticks\":\"\"}},\"type\":\"scatterpolargl\"}],\"scatterternary\":[{\"marker\":{\"colorbar\":{\"outlinewidth\":0,\"ticks\":\"\"}},\"type\":\"scatterternary\"}],\"surface\":[{\"colorbar\":{\"outlinewidth\":0,\"ticks\":\"\"},\"colorscale\":[[0.0,\"#0d0887\"],[0.1111111111111111,\"#46039f\"],[0.2222222222222222,\"#7201a8\"],[0.3333333333333333,\"#9c179e\"],[0.4444444444444444,\"#bd3786\"],[0.5555555555555556,\"#d8576b\"],[0.6666666666666666,\"#ed7953\"],[0.7777777777777778,\"#fb9f3a\"],[0.8888888888888888,\"#fdca26\"],[1.0,\"#f0f921\"]],\"type\":\"surface\"}],\"table\":[{\"cells\":{\"fill\":{\"color\":\"#EBF0F8\"},\"line\":{\"color\":\"white\"}},\"header\":{\"fill\":{\"color\":\"#C8D4E3\"},\"line\":{\"color\":\"white\"}},\"type\":\"table\"}]},\"layout\":{\"annotationdefaults\":{\"arrowcolor\":\"#2a3f5f\",\"arrowhead\":0,\"arrowwidth\":1},\"autotypenumbers\":\"strict\",\"coloraxis\":{\"colorbar\":{\"outlinewidth\":0,\"ticks\":\"\"}},\"colorscale\":{\"diverging\":[[0,\"#8e0152\"],[0.1,\"#c51b7d\"],[0.2,\"#de77ae\"],[0.3,\"#f1b6da\"],[0.4,\"#fde0ef\"],[0.5,\"#f7f7f7\"],[0.6,\"#e6f5d0\"],[0.7,\"#b8e186\"],[0.8,\"#7fbc41\"],[0.9,\"#4d9221\"],[1,\"#276419\"]],\"sequential\":[[0.0,\"#0d0887\"],[0.1111111111111111,\"#46039f\"],[0.2222222222222222,\"#7201a8\"],[0.3333333333333333,\"#9c179e\"],[0.4444444444444444,\"#bd3786\"],[0.5555555555555556,\"#d8576b\"],[0.6666666666666666,\"#ed7953\"],[0.7777777777777778,\"#fb9f3a\"],[0.8888888888888888,\"#fdca26\"],[1.0,\"#f0f921\"]],\"sequentialminus\":[[0.0,\"#0d0887\"],[0.1111111111111111,\"#46039f\"],[0.2222222222222222,\"#7201a8\"],[0.3333333333333333,\"#9c179e\"],[0.4444444444444444,\"#bd3786\"],[0.5555555555555556,\"#d8576b\"],[0.6666666666666666,\"#ed7953\"],[0.7777777777777778,\"#fb9f3a\"],[0.8888888888888888,\"#fdca26\"],[1.0,\"#f0f921\"]]},\"colorway\":[\"#636efa\",\"#EF553B\",\"#00cc96\",\"#ab63fa\",\"#FFA15A\",\"#19d3f3\",\"#FF6692\",\"#B6E880\",\"#FF97FF\",\"#FECB52\"],\"font\":{\"color\":\"#2a3f5f\"},\"geo\":{\"bgcolor\":\"white\",\"lakecolor\":\"white\",\"landcolor\":\"#E5ECF6\",\"showlakes\":true,\"showland\":true,\"subunitcolor\":\"white\"},\"hoverlabel\":{\"align\":\"left\"},\"hovermode\":\"closest\",\"mapbox\":{\"style\":\"light\"},\"paper_bgcolor\":\"white\",\"plot_bgcolor\":\"#E5ECF6\",\"polar\":{\"angularaxis\":{\"gridcolor\":\"white\",\"linecolor\":\"white\",\"ticks\":\"\"},\"bgcolor\":\"#E5ECF6\",\"radialaxis\":{\"gridcolor\":\"white\",\"linecolor\":\"white\",\"ticks\":\"\"}},\"scene\":{\"xaxis\":{\"backgroundcolor\":\"#E5ECF6\",\"gridcolor\":\"white\",\"gridwidth\":2,\"linecolor\":\"white\",\"showbackground\":true,\"ticks\":\"\",\"zerolinecolor\":\"white\"},\"yaxis\":{\"backgroundcolor\":\"#E5ECF6\",\"gridcolor\":\"white\",\"gridwidth\":2,\"linecolor\":\"white\",\"showbackground\":true,\"ticks\":\"\",\"zerolinecolor\":\"white\"},\"zaxis\":{\"backgroundcolor\":\"#E5ECF6\",\"gridcolor\":\"white\",\"gridwidth\":2,\"linecolor\":\"white\",\"showbackground\":true,\"ticks\":\"\",\"zerolinecolor\":\"white\"}},\"shapedefaults\":{\"line\":{\"color\":\"#2a3f5f\"}},\"ternary\":{\"aaxis\":{\"gridcolor\":\"white\",\"linecolor\":\"white\",\"ticks\":\"\"},\"baxis\":{\"gridcolor\":\"white\",\"linecolor\":\"white\",\"ticks\":\"\"},\"bgcolor\":\"#E5ECF6\",\"caxis\":{\"gridcolor\":\"white\",\"linecolor\":\"white\",\"ticks\":\"\"}},\"title\":{\"x\":0.05},\"xaxis\":{\"automargin\":true,\"gridcolor\":\"white\",\"linecolor\":\"white\",\"ticks\":\"\",\"title\":{\"standoff\":15},\"zerolinecolor\":\"white\",\"zerolinewidth\":2},\"yaxis\":{\"automargin\":true,\"gridcolor\":\"white\",\"linecolor\":\"white\",\"ticks\":\"\",\"title\":{\"standoff\":15},\"zerolinecolor\":\"white\",\"zerolinewidth\":2}}},\"xaxis\":{\"anchor\":\"y\",\"domain\":[0.0,1.0],\"scaleanchor\":\"y\",\"constrain\":\"domain\",\"title\":{\"text\":\"A\"}},\"yaxis\":{\"anchor\":\"x\",\"domain\":[0.0,1.0],\"autorange\":\"reversed\",\"constrain\":\"domain\",\"title\":{\"text\":\"C\"}},\"coloraxis\":{\"colorscale\":[[0.0,\"#0d0887\"],[0.1111111111111111,\"#46039f\"],[0.2222222222222222,\"#7201a8\"],[0.3333333333333333,\"#9c179e\"],[0.4444444444444444,\"#bd3786\"],[0.5555555555555556,\"#d8576b\"],[0.6666666666666666,\"#ed7953\"],[0.7777777777777778,\"#fb9f3a\"],[0.8888888888888888,\"#fdca26\"],[1.0,\"#f0f921\"]]},\"margin\":{\"t\":60}},                        {\"responsive\": true}                    ).then(function(){\n",
              "                            \n",
              "var gd = document.getElementById('7dbfd235-33cf-473b-9cc3-02366fd7b99f');\n",
              "var x = new MutationObserver(function (mutations, observer) {{\n",
              "        var display = window.getComputedStyle(gd).display;\n",
              "        if (!display || display === 'none') {{\n",
              "            console.log([gd, 'removed!']);\n",
              "            Plotly.purge(gd);\n",
              "            observer.disconnect();\n",
              "        }}\n",
              "}});\n",
              "\n",
              "// Listen for the removal of the full notebook cells\n",
              "var notebookContainer = gd.closest('#notebook-container');\n",
              "if (notebookContainer) {{\n",
              "    x.observe(notebookContainer, {childList: true});\n",
              "}}\n",
              "\n",
              "// Listen for the clearing of the current output cell\n",
              "var outputEl = gd.closest('.output');\n",
              "if (outputEl) {{\n",
              "    x.observe(outputEl, {childList: true});\n",
              "}}\n",
              "\n",
              "                        })                };                            </script>        </div>\n",
              "</body>\n",
              "</html>"
            ]
          },
          "metadata": {}
        }
      ],
      "source": [
        "# https://kanoki.org/2019/11/18/how-to-create-dataframe-for-testing/\n",
        "df= pd.util.testing.makeMixedDataFrame()\n",
        "\n",
        "\n",
        "print(df)\n",
        "print(\"\\n\")\n",
        "\n",
        "dz=TableauContingence(df,\"C\",\"A\")\n",
        "px.imshow(dz, text_auto=True)\n",
        "# Khi2Test(df,\"C\",\"A\")"
      ]
    },
    {
      "cell_type": "markdown",
      "metadata": {
        "id": "EiHltth4Mqqe"
      },
      "source": [
        "liste test a voir \n",
        "\n",
        "\n",
        "*   https://docs.scipy.org/doc/scipy/reference/generated/scipy.stats.ttest_ind.html\n",
        "*  https://fr.wikipedia.org/wiki/Test_de_Bartlett\n",
        "https://docs.scipy.org/doc/scipy/reference/generated/scipy.stats.bartlett.html\n",
        "\n",
        "* Statistical Power \n",
        "  * https://machinelearningmastery.com/statistical-power-and-power-analysis-in-python/\n",
        "  * https://www.geeksforgeeks.org/introduction-to-power-analysis-in-python/\n",
        "  * https://statsthinking21.github.io/statsthinking21-python/09-StatisticalPower.html\n",
        "  * https://towardsdatascience.com/introduction-to-power-analysis-in-python-e7b748dfa26\n",
        "\n",
        "* Plotly \n",
        "  * https://plotly.com/python/bar-charts/\n",
        "  * https://plotly.com/python-api-reference/generated/plotly.express.imshow.html\n",
        "\n",
        "*  Test Statistiques \n",
        " * https://help.xlstat.com/fr/6443-which-statistical-test-should-you-use\n",
        " * https://fr.wikipedia.org/wiki/Table_d%27utilisation_des_tests_statistiques\n",
        " * https://fr.wikipedia.org/wiki/Test_du_%CF%87%C2%B2\n",
        " * https://rplusplus.com/comment-choisir-le-bon-test-statistique/\n",
        " * Khi deux \n",
        "    * Test du χ2 d'adéquation\n",
        "    * Test du χ2 d'homogénéité\n",
        "      * https://docs.scipy.org/doc/scipy/reference/generated/scipy.stats.chi2_contingency.html?highlight=chi#scipy.stats.chi2_contingency\n",
        "    * Test du χ2 d'indépendance\n",
        "    * https://fr.wikipedia.org/wiki/Test_du_%CF%87%C2%B2\n",
        "\n",
        "  * https://www.soft-concept.com/surveymag/principaux-test-statistiques-etudes.html\n",
        "  * https://www.math.univ-toulouse.fr/~besse/Wikistat/pdf/st-l-inf-tests.pdf\n",
        "  * https://bioinfo-fr.net/tests-statistiques-suivez-lguide \n",
        "\n",
        "\n",
        "\n",
        "* Moyenne mobile \n",
        "  * https://stackoverflow.com/questions/56911611/python-pandas-create-cumulative-average-while-grouping-by-other-column\n",
        " * https://www.statology.org/cumulative-average-python/\n",
        "\n",
        " * Rolling :\n",
        "   * https://www.geeksforgeeks.org/python-pandas-dataframe-rolling/  \n",
        "   * https://www.geeksforgeeks.org/python-pandas-dataframe-rolling/ \n",
        "   * https://pandas.pydata.org/docs/reference/api/pandas.DataFrame.rolling.html\n",
        "   * https://pandas.pydata.org/docs/reference/api/pandas.DataFrame.rolling.html\n",
        " * https://stackoverflow.com/questions/56911611/python-pandas-create-cumulative-average-while-grouping-by-other-column\n",
        "\n",
        "\n",
        "* Power analisis :  https://www.geeksforgeeks.org/introduction-to-power-analysis-in-python/df\n",
        "\n",
        "*   https://www.geeksforgeeks.org/introduction-to-power-analysis-in-python/df\n",
        "*   https://statsthinking21.github.io/statsthinking21-python/09-StatisticalPower.html\n",
        "* https://towardsdatascience.com/introduction-to-power-analysis-in-python-e7b748dfa26\n",
        "\n",
        "\n",
        "\n",
        "\n",
        "\n",
        "\n",
        "\n",
        "\n",
        "\n",
        "\n"
      ]
    },
    {
      "cell_type": "markdown",
      "metadata": {
        "id": "jMJcOZ6unpxr"
      },
      "source": [
        "####  mesure Concentration : Courbe Lorentz et indice de gini"
      ]
    },
    {
      "cell_type": "code",
      "execution_count": null,
      "metadata": {
        "id": "urWT5YoorIo2"
      },
      "outputs": [],
      "source": [
        "def Gini(array):\n",
        "    \"\"\"Calculate the Gini coefficient of a numpy array. \n",
        "    \"\"\"\n",
        "    # based on bottom eq: http://www.statsdirect.com/help/content/image/stat0206_wmf.gif\n",
        "    # from: http://www.statsdirect.com/help/default.htm#nonparametric_methods/gini.htm\n",
        "    # source : https://github.com/oliviaguest/gini\n",
        "    array = array.flatten() #all values are treated equally, arrays must be 1d\n",
        "    if np.amin(array) < 0:\n",
        "        array -= np.amin(array) #values cannot be negative\n",
        "    array += 0.0000001 #values cannot be 0\n",
        "    array = np.sort(array) #values must be sorted\n",
        "    index = np.arange(1,array.shape[0]+1) #index per array element\n",
        "    n = array.shape[0]#number of array elements\n",
        "    return ((np.sum((2 * index - n  - 1) * array)) / (n * np.sum(array))) #Gini coefficient\n",
        "# https://www.insee.fr/fr/metadonnees/definition/c1551#:~:text=L'indice%20(ou%20coefficient),indice%20de%20Gini%20est%20%C3%A9lev%C3%A9. \n",
        "# Coef Gini indicateur synthétique permettant du niveau d'inégalité d'une variable sur pop. donnée  [ 0 (égalité parfaite) - 1   situation la plus inégalitaire possible, la variable vaut 0 sur toute la pop à l’exception d’un seul individu]"
      ]
    },
    {
      "cell_type": "code",
      "execution_count": null,
      "metadata": {
        "id": "yfuX4j-r5nJa"
      },
      "outputs": [],
      "source": [
        "# Courbe de Lorentz\n",
        "def CourbeLorentz(data):\n",
        " #  data = np.random.uniform(-1,0,10)\n",
        " array = data\n",
        "\n",
        " # Filtrer les valeurs > 0 \n",
        " filter_array = []  # Create an empty list\n",
        "\n",
        " for element in array: #   go through each element in array :  if the element > 0, set the value to True, otherwise False:\n",
        "   if element > 0:\n",
        "    filter_array.append(True)\n",
        "   else:\n",
        "    filter_array.append(False)\n",
        "\n",
        " data = array[filter_array] # Data is cleaned (all > 0 )\n",
        " #  print(data,len(data))\n",
        "\n",
        " n=len(data)\n",
        " print(n)\n",
        " lorenz = np.cumsum(np.sort(data)) / data.sum() # tri ordre croissant et division par total pour normaliser (0-1)\n",
        " lorenz = np.append([0],lorenz) # La courbe de Lorenz commence à 0\n",
        " \n",
        "\n",
        " # Plot avec style personalisé \n",
        " # print(plt.style.available)\n",
        " with plt.style.context(\"fivethirtyeight\"): \n",
        "  fig, ax = plt.subplots() \n",
        "   \n",
        "  xaxis = np.linspace(0-1/n,1+1/n,n+1) #Il y a un segment de taille n pour chaque individu, plus 1 segment supplémentaire d'ordonnée 0. Le premier segment commence à 0-1/n, et le dernier termine à 1+1/n.\n",
        "  x=np.linspace(0, 1, 10) ;  y=x # première bissectrice\n",
        "\n",
        "  plt.plot(xaxis,lorenz,drawstyle='steps-post',color=\"green\", label=\"Courbe Concentration\")  # Courbe de Lorentz\n",
        "  plt.plot(x, y, color=\"grey\",label=\"Equirépartition\" ) # Droite équirépartition\n",
        "  \n",
        "  plt.axvline(x=1, ymin=0, ymax=1, color=\"grey\", ls='--' ,  linewidth=1)  # Barre verticale\n",
        "  plt.axhline(y=1, xmin=0, xmax=1, color=\"grey\",ls='--',  linewidth=1)  # Barre horizontale \n",
        "  \n",
        "\n",
        "  plt.scatter(0,0.5,label=\"0.5\" ) # Ajout d'un point \n",
        "  plt.scatter(0.5,0,label=\"50% population\") # Ajout d'un point\n",
        "\n",
        "  GiniTxt = \"Coef Gini : \" + round(Gini(array),3).astype(str)\n",
        "  plt.annotate(GiniTxt,(0.1,0.5)) # Ajout d'une annotation coef Gini\n",
        "\n",
        "  \n",
        "  \n",
        "\n",
        "  plt.ylabel('Coef')  # Titre de l'axe y\n",
        "  plt.xlabel(\"population\")  # Titre de l'axe x\n",
        "  \n",
        "  \n",
        "  plt.xlim(0,1.1) # on limite l'axe des abscisses\n",
        "  plt.ylim(0,1.1) # On limites l'axe des ordonnées\n",
        "  # plt.axes().axis('equal')\n",
        "  # # plt.axes().axis('equal', 'auto-adjusted data limits')\n",
        "\n",
        "  from matplotlib.ticker import (MultipleLocator, FormatStrFormatter, AutoMinorLocator)\n",
        " \n",
        "  ax.xaxis.set_major_locator(MultipleLocator(0.1))\n",
        "  # ax.xaxis.set_major_formatter(FormatStrFormatter('%'))\n",
        "  # ax.axis.set_minor_locator(MultipleLocator(0.05))\n",
        "  # https://matplotlib.org/3.1.1/gallery/ticks_and_spines/major_minor_demo.html\n",
        "  # https://matplotlib.org/stable/api/_as_gen/matplotlib.axes.Axes.tick_params.html\n",
        "  ax.yaxis.set_major_locator(MultipleLocator(0.1))\n",
        "\n",
        "  \n",
        "  plt.legend()\n",
        "  # https://matplotlib.org/stable/api/_as_gen/matplotlib.pyplot.legend.html\n",
        "\n",
        "  plt.title('Courbe Lorentz')\n",
        "  \n",
        "  plt.savefig(\"Courbe Lorentz.png\", dpi=300)\n",
        "  plt.show()\n",
        "  \n",
        "  AUC = (lorenz.sum() -lorenz[-1]/2 -lorenz[0]/2)/n # Surface sous la courbe de Lorenz. Le premier segment (lorenz[0]) est à moitié en dessous de 0, on le coupe donc en 2, on fait de même pour le dernier segment lorenz[-1] qui est à moitié au dessus de 1.\n",
        "  S = 0.5 - AUC # surface entre la première bissectrice et le courbe de Lorenz\n",
        "  GiniCoef = 2*S\n",
        "  print(pcolors.OK +\"Coef Gini :\"+pcolors.RESET,Gini(data))"
      ]
    },
    {
      "cell_type": "code",
      "execution_count": null,
      "metadata": {
        "id": "uwINsHoOQJ2e",
        "colab": {
          "base_uri": "https://localhost:8080/",
          "height": 356
        },
        "outputId": "b9abc70d-f51d-44d1-9a67-c58c3020940c"
      },
      "outputs": [
        {
          "output_type": "stream",
          "name": "stdout",
          "text": [
            "1000\n"
          ]
        },
        {
          "output_type": "display_data",
          "data": {
            "text/plain": [
              "<Figure size 432x288 with 1 Axes>"
            ],
            "image/png": "[encoded data removed]"
          },
          "metadata": {}
        },
        {
          "output_type": "stream",
          "name": "stdout",
          "text": [
            "\u001b[92mCoef Gini :\u001b[0m 0.3318149175668214\n"
          ]
        }
      ],
      "source": [
        "data = np.random.uniform(0,10,1000)\n",
        "# print(data,len(data))\n",
        "\n",
        "CourbeLorentz(data)\n"
      ]
    },
    {
      "cell_type": "markdown",
      "metadata": {
        "id": "186kuJ5lso5-"
      },
      "source": [
        "##### Test Lorentz & Gini"
      ]
    },
    {
      "cell_type": "code",
      "execution_count": null,
      "metadata": {
        "id": "ZS8gxH9rrglm",
        "colab": {
          "base_uri": "https://localhost:8080/"
        },
        "outputId": "acdd36f4-8a10-40eb-e4df-40bb79d84e86"
      },
      "outputs": [
        {
          "output_type": "execute_result",
          "data": {
            "text/plain": [
              "0.998900109989001"
            ]
          },
          "metadata": {},
          "execution_count": 514
        }
      ],
      "source": [
        "a = np.zeros((1000))   # dervait tendre vers 1 \n",
        "a[0] = 1.0\n",
        "# a\n",
        "Gini(a)"
      ]
    },
    {
      "cell_type": "code",
      "execution_count": null,
      "metadata": {
        "id": "PDEIIHzArv6z",
        "colab": {
          "base_uri": "https://localhost:8080/"
        },
        "outputId": "48677549-8abb-4d2b-a957-13a0ff6a2564"
      },
      "outputs": [
        {
          "output_type": "execute_result",
          "data": {
            "text/plain": [
              "0.3276727290460962"
            ]
          },
          "metadata": {},
          "execution_count": 515
        }
      ],
      "source": [
        "s = np.random.uniform(-1,0,1000)  # devrait être proche 0.33\n",
        "# s\n",
        "Gini(s)"
      ]
    },
    {
      "cell_type": "code",
      "execution_count": null,
      "metadata": {
        "id": "7IJ92YWusPlS",
        "colab": {
          "base_uri": "https://localhost:8080/"
        },
        "outputId": "917c0a8a-8e6c-4ea4-a825-91b8349e0e9d"
      },
      "outputs": [
        {
          "output_type": "execute_result",
          "data": {
            "text/plain": [
              "3.552713323529169e-17"
            ]
          },
          "metadata": {},
          "execution_count": 516
        }
      ],
      "source": [
        "b = np.ones((10)) ;b # # dervait tendre vers 0\n",
        "Gini(b)"
      ]
    },
    {
      "cell_type": "markdown",
      "metadata": {
        "id": "-9YURU8A6ck0"
      },
      "source": [
        "###  Exports"
      ]
    },
    {
      "cell_type": "markdown",
      "metadata": {
        "id": "EXPMoKlT6vVd"
      },
      "source": [
        "#### Export DataFrame Excel /CSV :   ExportDF(df,file_name) "
      ]
    },
    {
      "cell_type": "code",
      "execution_count": null,
      "metadata": {
        "id": "OcSdg9Nu6fAE"
      },
      "outputs": [],
      "source": [
        "def ExportDF(df,file_name):\n",
        " \"\"\" ExportXLS(df,file_name)   DataFrame et Nom du fichier  \n",
        "  Format Excel :  .xlsx     ou Format CSV .csv (utF8 - separateur ;)\n",
        " le fichier est stocké à la racine du projet (machine virtuelle pour Google Colab)   \"\"\"\n",
        " import re\n",
        " df_name = get_df_name(df)  # DataFrame Name \n",
        " testCSV=re.search('.csv', file_name) != None # True si file_name contient re.search # print(test)\n",
        " testXLS=re.search('.xls', file_name) != None # True si file_name contient re.search # print(test)\n",
        "\n",
        " # Specify the name of the file ( .xlx for Excel or .csv for text format)\n",
        " # file_name = 'Output.xlsx'\n",
        " if testCSV == True :\n",
        "  df.to_csv(file_name, encoding='utf-8') # saving CSV\n",
        "  print(\"Confirmation : \", df_name,\"exporté sous :\",file_name)\n",
        "  # https://pandas.pydata.org/docs/reference/api/pandas.DataFrame.to_csv.html\n",
        "  \n",
        " elif testXLS == True :\n",
        "  df.to_excel(file_name) # saving the excelsheet \n",
        "  print(\"Confirmation : \", df_name,\"exporté sous :\",file_name) \n",
        "  # https://pandas.pydata.org/docs/reference/api/pandas.DataFrame.to_excel.html\n",
        "  \n",
        " else :\n",
        "   print(\"Erreur convertion : \", df_name,'en :',file_name,\" vérifier le format du fichier .xls .xlsx  ou .csv\")\n",
        "\n",
        "\n",
        "# Ajouter Fonction  to html : https://pandas.pydata.org/docs/reference/api/pandas.DataFrame.to_html.html?highlight=to_#pandas-dataframe-to-html\n",
        "# https://pandas.pydata.org/docs/reference/api/pandas.DataFrame.to_clipboard.html\n",
        "# https://pandas.pydata.org/docs/reference/api/pandas.DataFrame.to_xml.html\n",
        "# https://pandas.pydata.org/docs/reference/api/pandas.DataFrame.to_json.html\n",
        "# https://pandas.pydata.org/docs/reference/api/pandas.DataFrame.to_sql.html\n"
      ]
    },
    {
      "cell_type": "code",
      "execution_count": null,
      "metadata": {
        "id": "liO4moBFHfvV"
      },
      "outputs": [],
      "source": [
        "#test \n",
        "# ExportDF(df,\"test.xlsx\")"
      ]
    },
    {
      "cell_type": "markdown",
      "source": [
        "###### Export Foction en cours de dev "
      ],
      "metadata": {
        "id": "gQB4FC17Gj_2"
      }
    },
    {
      "cell_type": "code",
      "execution_count": null,
      "metadata": {
        "id": "5GegMonVPG6O"
      },
      "outputs": [],
      "source": [
        "# import pandas as pd\n",
        "# import numpy as np\n",
        "# import matplotlib.pyplot as plt\n",
        "# from matplotlib.backends.backend_pdf import PdfPages\n",
        "\n",
        "# df = pd.DataFrame(np.random.random((10,3)), columns = (\"col 1\", \"col 2\", \"col 3\"))\n",
        "\n",
        "# #https://stackoverflow.com/questions/32137396/how-do-i-plot-only-a-table-in-matplotlib\n",
        "# fig, ax =plt.subplots(figsize=(12,4))\n",
        "# ax.axis('tight')\n",
        "# ax.axis('off')\n",
        "# the_table = ax.table(cellText=df.values,colLabels=df.columns,loc='center')\n",
        "\n",
        "# #https://stackoverflow.com/questions/4042192/reduce-left-and-right-margins-in-matplotlib-plot\n",
        "# pp = PdfPages(\"foo.pdf\")\n",
        "# pp.savefig(fig, bbox_inches='tight')\n",
        "# pp.close()\n",
        "# Complement : https://stackoverflow.com/questions/33155776/export-pandas-dataframe-into-a-pdf-file-using-python"
      ]
    },
    {
      "cell_type": "code",
      "execution_count": null,
      "metadata": {
        "id": "6FCyi1QOP6A1"
      },
      "outputs": [],
      "source": [
        "# import pandas as pd\n",
        "# import pdfkit as pdf\n",
        "# import sqlite3\n",
        "\n",
        "# con=sqlite3.connect(\"baza.db\")\n",
        "\n",
        "# df=pd.read_sql_query(\"select * from dobit\", con)\n",
        "# df.to_html('/home/linux/izvestaj.html')\n",
        "# nazivFajla='/home/linux/pdfPrintOut.pdf'\n",
        "# pdf.from_file('/home/linux/izvestaj.html', nazivFajla)"
      ]
    },
    {
      "cell_type": "code",
      "execution_count": null,
      "metadata": {
        "id": "oC2bbEXlQ6_O"
      },
      "outputs": [],
      "source": [
        "# !pip install weasyprint\n",
        "# #  Create a pandas dataframe with demo data:\n",
        "# import pandas as pd\n",
        "# demodata_csv = 'https://raw.githubusercontent.com/mwaskom/seaborn-data/master/iris.csv'\n",
        "# df = pd.read_csv(demodata_csv)\n",
        "\n",
        "# # Pretty print the dataframe as an html table to a file\n",
        "# intermediate_html = '/tmp/intermediate.html'\n",
        "# to_html_pretty(df,intermediate_html,'Iris Data')\n",
        "# # if you do not want pretty printing, just use pandas:\n",
        "# # df.to_html(intermediate_html)\n",
        "\n",
        "# # Convert the html file to a pdf file using weasyprint\n",
        "# import weasyprint\n",
        "# out_pdf= '/tmp/demo.pdf'\n",
        "# weasyprint.HTML(intermediate_html).write_pdf(out_pdf)\n",
        "\n",
        "# # This is the table pretty printer used above:\n",
        "\n",
        "# def to_html_pretty(df, filename='/tmp/out.html', title=''):\n",
        "#     '''\n",
        "#     Write an entire dataframe to an HTML file\n",
        "#     with nice formatting.\n",
        "#     Thanks to @stackoverflowuser2010 for the\n",
        "#     pretty printer see https://stackoverflow.com/a/47723330/362951\n",
        "#     '''\n",
        "#     ht = ''\n",
        "#     if title != '':\n",
        "#         ht += '<h2> %s </h2>\\n' % title\n",
        "#     ht += df.to_html(classes='wide', escape=False)\n",
        "\n",
        "#     with open(filename, 'w') as f:\n",
        "#          f.write(HTML_TEMPLATE1 + ht + HTML_TEMPLATE2)\n",
        "\n",
        "# HTML_TEMPLATE1 = '''\n",
        "# <html>\n",
        "# <head>\n",
        "# <style>\n",
        "#   h2 {\n",
        "#     text-align: center;\n",
        "#     font-family: Helvetica, Arial, sans-serif;\n",
        "#   }\n",
        "#   table { \n",
        "#     margin-left: auto;\n",
        "#     margin-right: auto;\n",
        "#   }\n",
        "#   table, th, td {\n",
        "#     border: 1px solid black;\n",
        "#     border-collapse: collapse;\n",
        "#   }\n",
        "#   th, td {\n",
        "#     padding: 5px;\n",
        "#     text-align: center;\n",
        "#     font-family: Helvetica, Arial, sans-serif;\n",
        "#     font-size: 90%;\n",
        "#   }\n",
        "#   table tbody tr:hover {\n",
        "#     background-color: #dddddd;\n",
        "#   }\n",
        "#   .wide {\n",
        "#     width: 90%; \n",
        "#   }\n",
        "# </style>\n",
        "# </head>\n",
        "# <body>\n",
        "# '''\n",
        "\n",
        "# HTML_TEMPLATE2 = '''\n",
        "# </body>\n",
        "# </html>\n",
        "# '''\n",
        "\n",
        "# https://stackoverflow.com/questions/33155776/export-pandas-dataframe-into-a-pdf-file-using-python?newreg=2926175bf7ab431a87ec344c0fb5e967"
      ]
    },
    {
      "cell_type": "markdown",
      "metadata": {
        "id": "-uX82pruJMxc"
      },
      "source": [
        "#### Export Plolty to HTML :   ExportPlotly(fig,file_name) "
      ]
    },
    {
      "cell_type": "code",
      "execution_count": null,
      "metadata": {
        "id": "G-IEAwXpJcka"
      },
      "outputs": [],
      "source": [
        "# Exporte un figure plotly (fig) au format HTML :  file_name.html\n",
        "def ExportPlotly(fig,file_name):\n",
        " \"\"\"ExportPlotly(fig,file_name)\n",
        " Exporte une figure plotly (fig) au format HTML (file_name.html)\n",
        " le fichier est stocké à la racine du projet (machine virtuelle pour Google Colab)   \"\"\"\n",
        "\n",
        " file_name = file_name+\".html\"\n",
        " fig.write_html(file_name)\n",
        " print(file_name,\"exporté dans le répertoire racine\")"
      ]
    },
    {
      "cell_type": "code",
      "execution_count": null,
      "metadata": {
        "id": "Q74HdR4jexxP"
      },
      "outputs": [],
      "source": [
        "# Push to gihub en Test : https://gist.github.com/avullo/b8153522f015a8b908072833b95c3408"
      ]
    },
    {
      "cell_type": "markdown",
      "metadata": {
        "id": "-jvWNP7NaMTE"
      },
      "source": [
        "#### Wordcloud  A completer"
      ]
    },
    {
      "cell_type": "code",
      "execution_count": null,
      "metadata": {
        "id": "4NtIWd4LaXIj",
        "colab": {
          "base_uri": "https://localhost:8080/",
          "height": 479
        },
        "outputId": "255f03f0-a75a-4ef5-ed9c-0e21905f7026"
      },
      "outputs": [
        {
          "output_type": "display_data",
          "data": {
            "text/plain": [
              "<Figure size 432x288 with 1 Axes>"
            ],
            "image/png": "[encoded data removed]"
          },
          "metadata": {}
        },
        {
          "output_type": "display_data",
          "data": {
            "text/plain": [
              "<Figure size 432x288 with 1 Axes>"
            ],
            "image/png": "[encoded data removed]"
          },
          "metadata": {}
        }
      ],
      "source": [
        "# Libraries\n",
        "from wordcloud import WordCloud\n",
        "import matplotlib.pyplot as plt\n",
        "# https://amueller.github.io/word_cloud/generated/wordcloud.WordCloud.html\n",
        "\n",
        "# Create a list of word\n",
        "text=\"BottleNeck BottleNeck BottleNeck  BottleNeck  BottleNeck   vin champagne AOC Bordeaux Bordeaux Bourgogne Bourgogne Gewurztraminer Grand Cru Château Turcaud Bordeaux Rouge Domaine La Croix    Beaune Vieilles Vignes Champagne Mailly Grand Cru  Mailly Grand Cru Brut Réserve Alscace Jurançon Pinot Gris Vendanges Tardives Sec Pinot Gris Champagne Gosset  Pinot Noir Domaine Huet Vouvray Saumur Blanc Clos RomanDomaine Saint-Nicolas Château de Villeneuve Saumur-Champigny Domaine Labranche Pinot Noir Sous La Tour Chambolle-Musigny 1er Cru  Wemyss Malts Single Cask Scotch Whisky Domaine de La Tour Cognac Frapin\" #+Global.query(\"post_title != 0\").post_title.values\n",
        "text\n",
        "# text\n",
        "\n",
        "# # Create the wordcloud object\n",
        "wordcloud = WordCloud(width=480, height=480, margin=0).generate(text)\n",
        "wordcloudWhite = WordCloud(width=480, height=480, margin=0, background_color=\"white\").generate(text)\n",
        "\n",
        "\n",
        "\n",
        "# Display the generated image:\n",
        "plt.imshow(wordcloud, interpolation='bilinear')\n",
        "plt.axis(\"off\")\n",
        "plt.margins(x=0, y=0)\n",
        "plt.show()\n",
        "\n",
        "\n",
        "plt.imshow(wordcloudWhite, interpolation='bilinear')\n",
        "plt.axis(\"off\")\n",
        "plt.margins(x=0, y=0)\n",
        "plt.show()\n",
        "\n",
        "#WordCloud Tuto\n",
        "#https://re-thought.com/creating-wordclouds-in-python/\n",
        "#https://www.datacamp.com/tutorial/wordcloud-python \n",
        "# https://www.datacamp.com/tutorial/wordcloud-python\n",
        "# https://thecleverprogrammer.com/2021/11/11/word-cloud-from-a-pandas-dataframe-in-python/"
      ]
    }
  ]
}