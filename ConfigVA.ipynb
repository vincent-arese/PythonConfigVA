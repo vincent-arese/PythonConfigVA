{
  "nbformat": 4,
  "nbformat_minor": 0,
  "metadata": {
    "colab": {
      "name": "ConfigVA.ipynb",
      "provenance": [],
      "authorship_tag": "ABX9TyNHZ9TgajR1Yn1sU0u00KSO",
      "include_colab_link": true
    },
    "kernelspec": {
      "name": "python3",
      "display_name": "Python 3"
    },
    "language_info": {
      "name": "python"
    }
  },
  "cells": [
    {
      "cell_type": "markdown",
      "metadata": {
        "id": "view-in-github",
        "colab_type": "text"
      },
      "source": [
        "<a href=\"https://colab.research.google.com/github/vincent-arese/PythonConfigVA/blob/main/ConfigVA.ipynb\" target=\"_parent\"><img src=\"https://colab.research.google.com/assets/colab-badge.svg\" alt=\"Open In Colab\"/></a>"
      ]
    },
    {
      "cell_type": "code",
      "execution_count": null,
      "metadata": {
        "id": "gJrJyW2V5NkO"
      },
      "outputs": [],
      "source": [
        ""
      ]
    },
    {
      "cell_type": "markdown",
      "metadata": {
        "id": "N5wBe75QkWMl"
      },
      "source": [
        "# <font color=\"00CED1\">  Config Env de travail </font>   <a id=\"EnvTravail\"></a>"
      ]
    },
    {
      "cell_type": "markdown",
      "metadata": {
        "id": "lqvn1P4nkeub"
      },
      "source": [
        "### pip install"
      ]
    },
    {
      "cell_type": "code",
      "execution_count": 1,
      "metadata": {
        "id": "R74s9z-_kbOD"
      },
      "outputs": [],
      "source": [
        "# Prepa Env PIP\n",
        "# librairie pour combiner Pyhton & SQL https://towardsdatascience.com/fugue-and-duckdb-fast-sql-code-in-python-e2e2dfc0f8eb\n",
        "#!pip install -U fugue[duckdb,sql] \n",
        "# !pip install pandas-bokeh\n",
        "\n",
        "#  TO DEL    !pip install -U dash \n",
        "\n",
        "# !python --version  # checks version from command line\n",
        "# !sudo apt-get update -y\n",
        "# !sudo apt-get upgrade -y\n",
        "\n",
        "# ! pip list -v\n",
        "# ! pip list -v | grep [Pp]an \n",
        "# ! pip list -v | grep [Pp]lot\n",
        "# ! pip list -v | grep [Ss]ea\n",
        "# ! pip list -v | grep [Bb]l\n",
        "# ! pip list -v | grep [Aa]ut\n",
        "# ! pip install --upgrade pandas\n",
        "\n",
        "# !sudo update-alternatives --config python3\n",
        "# #after running, enter the row number of the python version you want.\n",
        "# !python --version  # checks version from command line"
      ]
    },
    {
      "cell_type": "markdown",
      "metadata": {
        "id": "99P3bdUgkwxz"
      },
      "source": [
        "### Librairies"
      ]
    },
    {
      "cell_type": "code",
      "execution_count": 2,
      "metadata": {
        "id": "EtW9d-qjkHZX",
        "colab": {
          "base_uri": "https://localhost:8080/"
        },
        "outputId": "e03f8afc-8785-4a1a-b2d4-1620ada9b710"
      },
      "outputs": [
        {
          "output_type": "stream",
          "name": "stderr",
          "text": [
            "/usr/local/lib/python3.7/dist-packages/statsmodels/tools/_testing.py:19: FutureWarning: pandas.util.testing is deprecated. Use the functions in the public API at pandas.testing instead.\n",
            "  import pandas.util.testing as tm\n"
          ]
        },
        {
          "output_type": "stream",
          "name": "stdout",
          "text": [
            "\u001b[92mFile Saved Successfully!\u001b[0m\n",
            "\u001b[93mWarning: Are you sure you want to continue?\u001b[0m\n",
            "\u001b[91mUnable to delete record.\u001b[0m\n",
            "\u001b[92mFile Saved Successfully!\u001b[0m\n",
            "\u001b[93mWarning: Are you sure you want to continue?\u001b[0m\n",
            "\u001b[91mUnable to delete record.\u001b[0m\n"
          ]
        }
      ],
      "source": [
        "# librairies Pythons \n",
        "import numpy as np\n",
        "import pandas as pd  #https://pandas.pydata.org/Pandas_Cheat_Sheet.pdf\n",
        "from pandas.core.groupby.generic import DataFrameGroupBy\n",
        "pd.set_option('display.max_columns',None)  #pd.set_option('max_columns', 10) limiter le nbr de colonnes visualisé à 10 /none (=> scrollbar)\n",
        "pd.set_option('display.max_rows', 40)\n",
        "pd.set_option('display.max_colwidth', None)  # None ou -1 or  199\n",
        "pd.set_option('display.colheader_justify','left') #'left'/'right'\n",
        "# pd.set_option(\"display.date_dayfirst\",True) # display.date_dayfirst / display.date_yearfirst\n",
        "# https://pandas.pydata.org/docs/user_guide/options.html\n",
        "# https://runebook.dev/fr/docs/pandas/user_guide/options\n",
        "\n",
        "import scipy.stats as stats   # https://github.com/scipy/scipy\n",
        "\n",
        "import statsmodels.api as sm   #https://www.statsmodels.org/stable/index.html\n",
        "import statsmodels.formula.api as smf #https://www.statsmodels.org/stable/index.html\n",
        "from patsy import dmatrices\n",
        "\n",
        "import matplotlib.pyplot as plt    #https://s3.amazonaws.com/assets.datacamp.com/blog_assets/Python_Matplotlib_Cheat_Sheet.pdf\n",
        "import seaborn as sns     #https://s3.amazonaws.com/assets.datacamp.com/blog_assets/Python_Seaborn_Cheat_Sheet.pdf\n",
        "import plotly.express as px     #https://plotly.com/python/ \n",
        "import plotly.graph_objects as go  #https://plotly.github.io/plotly.py-docs/search.html?q=hist&check_keywords=yes&area=default \n",
        "# import pandas_bokeh\n",
        "#import fugue_duckdb\n",
        "#from fugue_notebook import setup ;setup()\n",
        "\n",
        "#_____________________________________________________________________________\n",
        "# Python print Color\n",
        "class pcolors:\n",
        "    OK = '\\033[92m' #GREEN\n",
        "    WARNING = '\\033[93m' #YELLOW\n",
        "    FAIL = '\\033[91m' #RED\n",
        "    RESET = '\\033[0m' #RESET COLOR\n",
        "\n",
        "#Source : https://www.delftstack.com/fr/howto/python/python-print-colored-text/\n",
        "\n",
        "#Exemple \n",
        "print(pcolors.OK + \"File Saved Successfully!\" + pcolors.RESET)\n",
        "print(pcolors.WARNING + \"Warning: Are you sure you want to continue?\" + pcolors.RESET)\n",
        "print(pcolors.FAIL + \"Unable to delete record.\" + pcolors.RESET)\n",
        "\n",
        "print(f\"{pcolors.OK}File Saved Successfully!{pcolors.RESET}\")\n",
        "print(f\"{pcolors.WARNING}Warning: Are you sure you want to continue?{pcolors.RESET}\")\n",
        "print(f\"{pcolors.FAIL}Unable to delete record.{pcolors.RESET}\")\n",
        "#-----------------------------------------------------\n",
        "\n",
        "\n",
        "#  Importer les données en Pandas dataframe\n",
        "#aideDataPATH='/content/drive/MyDrive/DataSc/P4VA/'\n",
        "DataPATH='https://raw.githubusercontent.com/vincent-arese/OC-P6'"
      ]
    },
    {
      "cell_type": "markdown",
      "metadata": {
        "id": "VT3tToYclGob"
      },
      "source": [
        "## Fonctions Perso"
      ]
    },
    {
      "cell_type": "markdown",
      "metadata": {
        "id": "xtiMnuY9lNO-"
      },
      "source": [
        "#### <font color=\"red\"> Cellules de bloc-notes template </font>"
      ]
    },
    {
      "cell_type": "markdown",
      "metadata": {
        "id": "4DWFkD4-lRVr"
      },
      "source": [
        "\n",
        "* https://pandas.pydata.org/Pandas_Cheat_Sheet.pdf\n",
        "\n",
        "* https://colab.research.google.com/drive/1-mfcGT9FvROM6pOL2_uNtx4ywrf6IlBn#scrollTo=icxtjOVUqN7F\n",
        "\n",
        "* https://html-color-codes.info/Codes-couleur-HTML/\n",
        "\n",
        "* https://docs.bokeh.org/en/latest/docs/gallery.html\n"
      ]
    },
    {
      "cell_type": "code",
      "execution_count": 3,
      "metadata": {
        "id": "5oxbSSfYl0Zj"
      },
      "outputs": [],
      "source": [
        "#########################################################################\n",
        "# DEBUG & Search !      Version 1.1                                     #\n",
        "#########################################################################\n",
        "# dt=BilanAlim\n",
        "col=['index']\n",
        "\n",
        "# dt.info()\n",
        "# dt.describe(include='all')\n",
        "# dt.describe(include='category')\n",
        "\n",
        "#~~Search NaN ~~~~~~~~~~~~~~~~~~~~~~~~~~~~~~~~~~~~~~~~~~~~\n",
        "# SearchNaN(dt,1)\n",
        "# dt.isnull().sum().sum()  # Is nul total df \n",
        "# SearchNaN(dt,2)\n",
        "# SearchNaN(dt,2).CodeZone.sort_values(na_position='first').unique()\n",
        "# len(SearchNaN(dt,2).CodeZone.sort_values(na_position='first').unique())\n",
        "# SearchNaN(dt,2).Zone.sort_values(na_position='first').unique()\n",
        "# SearchNaN(dt,2).Année.sort_values(na_position='first').unique()\n",
        "\n",
        "# dt.replace([np.inf, -np.inf], np.nan, inplace=True) # Remplacer les infini par des NaN (division ! )\n",
        "\n",
        "#~~Search values ~~~~~~~~~~~~~~~~~~~~~~~~~~~~~~~~~~~~~~~~~~~~\n",
        "# SearchListe(dt,[0])\n",
        "# SearchListe(dt,[0,np.nan,np.inf,-np.inf])\n",
        "# SearchListe(dt,[ 1, 249, 250, 273, 276, 351])\n",
        "# SearchListe(dt,[0]).CodeZone\n",
        "# dt.CodeZone.sort_values(ascending=True,na_position='first').unique()\n",
        "# dt.iloc[:,12].sort_values(ascending=True,na_position='first').unique()\n",
        "#  dt.iloc[:,2].unique()\n",
        "# dt.iloc[:,3:19]\n",
        "# dt.AlphaISO3.sort_values(ascending=True,na_position='first').unique()\n",
        "# len(dt.AlphaISO3.sort_values(ascending=True,na_position='first'))\n",
        "\n",
        "\n",
        "\n",
        "#__Liste valeur unique dans chaque colonne du df  _____________\n",
        "# for col in ListeCol: \n",
        "#   # print(col,':',len(dt[col].unique()),': \\n',dt[col].sort_values(ascending=True,na_position='first').unique(),'\\n______________\\n')\n",
        "#   print(col,':',len(dt[col].unique()),': \\n',dt[col].unique(),'\\n______________\\n') #Unsorted\n",
        "#-----------\n",
        "\n",
        "#~~ Différences liste ou df ~~~~~~~~~~~~~~~~~~~~~~~~~~~~~~~~~~~~~~~~~~~~\n",
        "# LostElement(A_array,B_array)\n",
        "# get_different_rows(source_df, new_df)\n",
        "# ListeColUnique(dt)\n",
        "\n",
        "\n",
        "#~~ Différences liste ou df ~~~~~~~~~~~~~~~~~~~~~~~~~~~~~~~~~~~~~~~~~~~~\n",
        "# df=dt\n",
        "# regex=\"^[Tt]h.*\"\n",
        "# df[df.Zone.str.contains(regex)]\n",
        "#-----------\n",
        "\n",
        "\n",
        "#~~ Dtype ~~~~~~~~~~~~~~~~~~~~~~~~~~~~~~~~~~~~~~~~~~~~\n",
        "# 0.  # dtype Category => object (str)\n",
        "# reduce_mem_usage(dt) # Optisation dtype\n",
        "#__iloc dtype change ____________________\n",
        "# for i in range(2,5):\n",
        "#   dt.iloc[:,i]=dt.iloc[:,i].astype(float)\n",
        "#-----------\n",
        "\n",
        "#------ test Erreur dtype trop Petit: \n",
        "\n",
        "# print('Min',dt[col].min(),'Moy',dt[col].mean(),'Max',dt[col].max(),'Sum',dt[col].sum())  \n",
        "\n",
        "\n",
        "# dt.info()\n",
        "\n",
        "##### Df List\n",
        "# SecuAlimGeo\n",
        "\n",
        "##################### Aide memoire ##################\n",
        "# [i for i in range(2,12)]\n",
        "\n",
        "# dt.iloc[:, [2,3,12,14,15]]\n",
        "# dt.iloc[:,[i for i in range(18)]],2)\n",
        "\n",
        "# ColMove(df,ColName,ColIndex)\n",
        "# df= df.iloc[:,[0,1,2,3,7,12,16]]\n",
        "# o\n",
        "####################################################\n",
        "\n",
        "\n",
        "# print(BilanAlimGeo.Semences.max(),BilanAlimGeo.Semences.mean(), BilanAlimGeo.Semences.min(),BilanAlimGeo.Semences.sum(),BilanAlimGeo.Semences.count())\n",
        "# !cat /proc/meminfo # Voir RAM"
      ]
    },
    {
      "cell_type": "code",
      "execution_count": 4,
      "metadata": {
        "colab": {
          "base_uri": "https://localhost:8080/"
        },
        "id": "5IGimXDNcbMf",
        "outputId": "549febd7-6742-42c6-ebd2-51d9ea7670d1"
      },
      "outputs": [
        {
          "output_type": "stream",
          "name": "stdout",
          "text": [
            "0 ~ num \u001b[92m~dtype( int64 )  : Somme  Ok\u001b[0m\n",
            "1 ~ colors \u001b[92m~dtype( object )  : Concat OK\u001b[0m\n"
          ]
        }
      ],
      "source": [
        "#########################################################################\n",
        "# DEBUG & Compare Sum      Version 1.01                                 #\n",
        "#########################################################################\n",
        "\n",
        "df = pd.DataFrame({'num': [1, 2, 3], 'colors': ['red', 'white', 'blue']})\n",
        "#_____________________________________________________________\n",
        "# Parametre Compare Somme\n",
        "dfREF=df\n",
        "RechercheTest=\"num>0\"\n",
        "listeCol=dfREF.columns   # listeCol=dfREF.columns # pour filter toutes les colonnes de dfREF\n",
        "\n",
        "df1=dfREF\n",
        "df1TEXTE='Version1'\n",
        "\n",
        "df2=dfREF\n",
        "df2TEXTE='Version2'\n",
        "# Itere  listeCol pour chaque df(n) et teste somme df(n) = somme dfREF \n",
        "#-------------------------------------------\n",
        "\n",
        "for Col in listeCol:\n",
        "  Col_type = dfREF[Col].dtype\n",
        "  if Col_type != object and Col_type != \"category\":  #  Si le dtype != object & category => de type Nombre ! \n",
        "    if Col in df1.columns:   \n",
        "      Test1=df1.query(RechercheTest)[Col].sum()\n",
        "    if Col in df2.columns:\n",
        "        Test2=df2.query(RechercheTest)[Col].sum()\n",
        "\n",
        "    Ref=dfREF.query(RechercheTest)[Col].sum()\n",
        "    if Test1!=Ref or Test2!=Ref:\n",
        "       print(dfREF.columns.get_loc(Col),'~',Col,'~dtype(',Col_type,')   ', df1TEXTE,':',Test1==Ref,' - ',df2TEXTE,':',Test2==Ref)\n",
        "    else:\n",
        "      print(dfREF.columns.get_loc(Col),'~',Col,pcolors.OK +'~dtype(',Col_type,')  : Somme  Ok'+ pcolors.RESET)  # La somme  colonne est identique \n",
        "  else:\n",
        "    Test1un=0\n",
        "    Test2un=0\n",
        "    if Col in df1.columns:   \n",
        "      Test1un=df1.query(RechercheTest)[Col].unique().sum()\n",
        "    if Col in df2.columns:\n",
        "      Test2un=df2.query(RechercheTest)[Col].unique().sum()\n",
        "\n",
        "    Refun=dfREF.query(RechercheTest)[Col].unique().sum()\n",
        "    if Test1un !=Refun or Test2un !=Refun:\n",
        "      print(dfREF.columns.get_loc(Col),'~',Col,'~dtype(',Col_type,')   ', df1TEXTE,':',Test1un==Refun,' - ',df2TEXTE,':',Test2un==Refun)\n",
        "    else:\n",
        "      print(dfREF.columns.get_loc(Col),'~',Col,pcolors.OK +'~dtype(',Col_type,')  : Concat OK'+ pcolors.RESET)   # La somme (textes concaténés)  colonne est identique \n",
        "\n",
        "#_FIN______________________________________________________"
      ]
    },
    {
      "cell_type": "markdown",
      "metadata": {
        "id": "yEr7mcvUpNEg"
      },
      "source": [
        "#### Liste Fonctions "
      ]
    },
    {
      "cell_type": "markdown",
      "source": [
        "### Search "
      ],
      "metadata": {
        "id": "M8nJKvm997cJ"
      }
    },
    {
      "cell_type": "code",
      "source": [
        "def get_df_name(df):\n",
        "    name =[x for x in globals() if globals()[x] is df][0]\n",
        "    return name\n",
        "#source : https://stackoverflow.com/questions/31727333/get-the-name-of-a-pandas-dataframe   Pour les series utiliser .name  (ou .names )"
      ],
      "metadata": {
        "id": "ugv88iKGovoM"
      },
      "execution_count": 5,
      "outputs": []
    },
    {
      "cell_type": "markdown",
      "metadata": {
        "id": "CeRXBSMjl_o8"
      },
      "source": [
        "##### Search NaN  SearchNaN(DataFrame,Option)"
      ]
    },
    {
      "cell_type": "code",
      "execution_count": 6,
      "metadata": {
        "id": "FhZlTn2ZmEZk"
      },
      "outputs": [],
      "source": [
        "#Fonction ChercheNaN : Recherche des NaN\n",
        "def SearchNaN(DataFrame,Option):\n",
        "  \"\"\"ChercheNaN : Recherche des NaN\n",
        "  \n",
        "  Option : \n",
        "  1: Total nombre de NaN par colonne\n",
        "  2: Afficher les lignes ayant au moins 1 NaN\n",
        "  3: Nomnbre de lignes ayant 1 NaN\n",
        "  \"\"\"\n",
        "  df_name = get_df_name(DataFrame)\n",
        "\n",
        "  if Option==1:\n",
        "   return print(pcolors.OK+ df_name +pcolors.RESET,': Nombre de NaN par colonne (total lignes',len(DataFrame),'):/n' ,\n",
        "                DataFrame.isnull().sum(axis=0),'\\n------%-----\\n',\n",
        "                (DataFrame.isnull().sum(axis=0)/len(DataFrame))*100) #  Option1 : Total nombre de NaN par colonne\n",
        "  elif Option==2:\n",
        "    return DataFrame[DataFrame.isnull().any(axis=1)]  #Afficher les lignes ayant au moins 1 NaN\n",
        "  elif Option==3: \n",
        "    return print(pcolors.OK+ df_name +pcolors.RESET,': Nombre de ligne(s) ayant au moins 1 NaN :',\n",
        "                 len(DataFrame[DataFrame.isnull().any(axis=1)]),'\\n-----%------\\n',\n",
        "                 (len(DataFrame[DataFrame.isnull().any(axis=1)])/len(DataFrame))*100)\n",
        "  else:\n",
        "    print(\"SearchNaN(DataFrame,Option) Error :\",\"Choisir Option :\\n\",\n",
        "          \"\\n 1: Total nombre de NaN par colonne\",\n",
        "          \"\\n 2: Total nombre de NaN par colonne\",\n",
        "          \"\\n 3: Nomnbre de lignes ayant 1 NaN\")\n",
        "\n",
        "# DEBUG  recherche NaN\n",
        "# temp=geo\n",
        "# temp.isnull().sum(axis=0) #  Option1 : Total nombre de NaN par colonne\n",
        "# test=temp[temp.isnull().any(axis=1)] ; test #Afficher les lignes ayant au moins 1 NaN\n",
        "# len(test)\n",
        "# test.Zone.unique()"
      ]
    },
    {
      "cell_type": "markdown",
      "metadata": {
        "id": "R1uh5_f5mIWb"
      },
      "source": [
        "##### SearchListe(df,liste)"
      ]
    },
    {
      "cell_type": "code",
      "execution_count": 7,
      "metadata": {
        "id": "LBNjEd4RmMCq"
      },
      "outputs": [],
      "source": [
        "# Recherche une liste dans un DataFrame\n",
        "def SearchListe(df,liste):\n",
        "  \"\"\"Recherche une liste dans un DataFrame et renvoie Df avec les Valeur pour masque SearchListe(dx,[2,4,7]) - liste=[2,4,7]/ SearchListe(dx,liste) accepte liste unique liste=[1]\"\"\"\n",
        "  return df[df.isin(liste)].dropna(thresh=1)\n",
        "\n",
        "# Exemple : \n",
        "# dx = pd.DataFrame(np.random.randint(10, size=(10, 3)),\n",
        "#                      columns=['A', 'B', 'C'])\n",
        "# dx\n",
        "# SearchListe(dx,[2,4,7])\n",
        "# liste=[2,4,7]\n",
        "# SearchListe(dx,liste)\n",
        "# SearchListe(dx,l)"
      ]
    },
    {
      "cell_type": "markdown",
      "metadata": {
        "id": "SXHiYkA9elbG"
      },
      "source": [
        "##### ListeCol Unique"
      ]
    },
    {
      "cell_type": "code",
      "execution_count": 8,
      "metadata": {
        "id": "tufM7RS3exlj"
      },
      "outputs": [],
      "source": [
        "def ListeColUnique(df):\n",
        "  \"\"\" Itere sur les colonnes d'un DataFrame(df) et listes les valeurs unique de chaque colonne\"\"\"\n",
        "  ListeCol=df.columns\n",
        "  df_name = get_df_name(df)\n",
        "  print(ListeCol)\n",
        "  for col in ListeCol: \n",
        "     print(col,':',len(df[col].unique()),': \\n',df[col].sort_values(ascending=True,na_position='first').unique(),'\\n______________\\n')"
      ]
    },
    {
      "cell_type": "markdown",
      "source": [
        "##### SearchKey(df)"
      ],
      "metadata": {
        "id": "MmdpvopzvPyd"
      }
    },
    {
      "cell_type": "code",
      "source": [
        "def SearchKey(df):\n",
        "  \"\"\" Itere sur les colonnes d'un DataFrame(df) et Compte les valeurs uniques de chaque colonne\"\"\"\n",
        "  ListeCol=df.columns\n",
        "  df_name = get_df_name(df)\n",
        "  # print('Liste colonnes :',pcolors.OK +ListeCol+ pcolors.RESET)\n",
        "  print('\\n______________________________________________________________________________________\\n',\n",
        "        \"Recherche  valeurs uniques : \",\n",
        "        pcolors.WARNING+ df_name +pcolors.RESET,\" \",\n",
        "        # df.shape,\n",
        "        \"(\",len(df),\"Lignes,\",len(ListeCol),\"Colonnes)\",\n",
        "        '\\n______________________________________________________________________________________')\n",
        "  for col in ListeCol: \n",
        "    NbUnique=df[col].nunique()\n",
        "    Nbdoublons=len(df)-NbUnique\n",
        "    if Nbdoublons==0:\n",
        "      print(pcolors.OK +col,\":\"+pcolors.RESET,len(df),\"rows\",\n",
        "          \"|Nb unique:\",NbUnique,\n",
        "          \"|Nb doublons:\", Nbdoublons, \"-\",\n",
        "          np.round(((len(df)-NbUnique)/len(df))*100,0),'%',\n",
        "          pcolors.OK+\"Clé candidate\"+pcolors.RESET,\n",
        "          \"|\",df[col].dtype,\n",
        "          '\\n____________________________________________________________________________________')\n",
        "    elif Nbdoublons!=0:\n",
        "      print(pcolors.OK+col,\":\"+pcolors.RESET,len(df),\"rows\",\n",
        "          \"|Nb unique:\",NbUnique,\n",
        "          \"|Nb doublons:\", Nbdoublons, \"-\",\n",
        "          np.round(((len(df)-NbUnique)/len(df))*100,0),'%', \n",
        "          \"|\",df[col].dtype,     \n",
        "          '\\n______________________________________________________________________________________')"
      ],
      "metadata": {
        "id": "ELoYAlwJq81k"
      },
      "execution_count": 9,
      "outputs": []
    },
    {
      "cell_type": "markdown",
      "metadata": {
        "id": "yqUa4UUdmgWa"
      },
      "source": [
        "##### np.Array  LostElement(Array1,Array2)"
      ]
    },
    {
      "cell_type": "code",
      "execution_count": 10,
      "metadata": {
        "id": "wsJOhZ4kmjXx"
      },
      "outputs": [],
      "source": [
        "# Rechercher un élément perdu à partir d’un tableau dupliqué \n",
        "def LostElement(A,B):\n",
        "  \"\"\"Rechercher un élément perdu à partir d’un tableau dupliqué\n",
        "    LostElement(ArrayA,ArrayB)  ou LostElement(df.A.unique(),df.B.unique())\n",
        "    Compare deux np.array !!!!\n",
        "      =>  DifférenceA=>B  : Valeur incluse dans A mais Non dans B \n",
        "      =>  DifférenceB=>A  : Valeur incluse dans B mais Non dans A\n",
        "  \"\"\"\n",
        "\n",
        "  # return print('ArrayA:',A,'- Nb val:',len(A),'\\n ArrayB:',B,'- Nb val:',len(B),pcolors.OK + '\\n----------------------\\n Différence inA=>notB',np.setdiff1d(A, B),'\\n----------------------\\n Différence inB=>notN',np.setdiff1d(B, A),'\\n----------------------\\n'+ pcolors.RESET)\n",
        "  return print('\\n----------------------\\n',\n",
        "               pcolors.OK +'Diff. inA=>notB'+ pcolors.RESET,np.setdiff1d(A, B),'\\n----------------------\\n',\n",
        "               pcolors.OK+'Diff. inB=>notA'+ pcolors.RESET,' ',np.setdiff1d(B, A),'\\n----------------------\\n',\n",
        "               pcolors.OK +'ArrayA:'+ pcolors.RESET,A,'- Nb val:',len(A),'\\n',\n",
        "               pcolors.OK +'\\n ArrayB:'+ pcolors.RESET,B,'- Nb val:',len(B),'\\n----------------------\\n')"
      ]
    },
    {
      "cell_type": "markdown",
      "metadata": {
        "id": "IWAaJeqpoVeN"
      },
      "source": [
        "##### Différences entre deux df get_different_rows(source_df, new_df)\n",
        "\n"
      ]
    },
    {
      "cell_type": "code",
      "execution_count": 11,
      "metadata": {
        "id": "fRsXPpgqoYFB"
      },
      "outputs": [],
      "source": [
        "def get_different_rows(source_df, new_df):\n",
        "    \"\"\"Returns just the rows from the new dataframe that differ from the source dataframe\"\"\"\n",
        "    merged_df = source_df.merge(new_df, indicator=True, how='outer')\n",
        "    changed_rows_df = merged_df[merged_df['_merge'] == 'right_only']\n",
        "    return changed_rows_df.drop('_merge', axis=1)\n",
        "\n",
        "\n",
        "#Trouver les lignes peu communes entre deux DataFrames\n",
        "# pd.concat([SecuAlimGeo,SecuAlim]).drop_duplicates(keep=False)\n",
        "\n",
        "# #Trouver les lignes peu communes entre deux DataFrames\n",
        "# pd.concat([SecuAlimGeo,SecuAlim]).drop_duplicates(keep=False)"
      ]
    },
    {
      "cell_type": "markdown",
      "source": [
        "### Manip DataFrame"
      ],
      "metadata": {
        "id": "Vz0FVvnI-ODS"
      }
    },
    {
      "cell_type": "markdown",
      "metadata": {
        "id": "wniVx7NDntuB"
      },
      "source": [
        "##### ColMove(df,ColName,ColIndex)"
      ]
    },
    {
      "cell_type": "code",
      "execution_count": 12,
      "metadata": {
        "id": "u4UJxPfBnzy5"
      },
      "outputs": [],
      "source": [
        "# Deplacer une colonne dans un dataframe \n",
        "def ColMove(DataFrame,ColName,ColIndex):\n",
        "  \"\"\"Fonction  ColMove(DataFrame,ColName,ColIndex)  \n",
        "   Deplace un colonne dans un DataFrame  - ColName : nom colonne  - ColIndex : rang index souhaité (ddbut df 0 !)\n",
        "  \"\"\" \n",
        "  DataFrame.insert(ColIndex,'Xcol',DataFrame[ColName])\n",
        "  DataFrame.drop(ColName, axis=1, inplace=True)\n",
        "  DataFrame.rename(columns={'Xcol' : ColName},inplace=True)\n",
        "  return DataFrame"
      ]
    },
    {
      "cell_type": "markdown",
      "source": [
        "### Manip Date"
      ],
      "metadata": {
        "id": "7L5TnzxOA5_I"
      }
    },
    {
      "cell_type": "code",
      "source": [
        "# Eclater date en colonnes  Journée - Jour - Mois - Année - Trimestre \n",
        "\n",
        "# data['date_naissance'] = pd.to_datetime(data['date_naissance'],format='%d/%m/%Y', errors='coerce')\n",
        "\n",
        "#https://docs.python.org/fr/3/library/datetime.html#strftime-and-strptime-format-codes "
      ],
      "metadata": {
        "id": "qdo3AcJVBDd4"
      },
      "execution_count": 13,
      "outputs": []
    },
    {
      "cell_type": "markdown",
      "source": [
        "### Data type Optimisation"
      ],
      "metadata": {
        "id": "yYVkMO_SD7Jx"
      }
    },
    {
      "cell_type": "markdown",
      "metadata": {
        "id": "2MBrf4AlnGhK"
      },
      "source": [
        "##### Change dtype Category to Object : dtypeCat2Obj(df)"
      ]
    },
    {
      "cell_type": "code",
      "execution_count": 14,
      "metadata": {
        "id": "0J6fmymnnJCb"
      },
      "outputs": [],
      "source": [
        "def dtypeCat2Obj(df):\n",
        "    \"\"\"  iterate through all the columns of a dataframe and \n",
        "    modify the Dtype Catergory to Object (Str)       \n",
        "    \"\"\"\n",
        "     \n",
        "    for col in df.columns:\n",
        "        col_type = df[col].dtype\n",
        "        \n",
        "        if col_type == 'category':\n",
        "             df[col] = df[col].astype(str)    \n",
        "           \n",
        "    return df"
      ]
    },
    {
      "cell_type": "code",
      "execution_count": 15,
      "metadata": {
        "id": "EaO4g0jwi9K4"
      },
      "outputs": [],
      "source": [
        "def DataChangeCat2Obj(df):\n",
        "    \"\"\"  iterate through all the columns of a dataframe and \n",
        "    modify the Dtype Catergory to Object (Str)       \n",
        "    \"\"\"\n",
        "     \n",
        "    for col in df.columns:\n",
        "        col_type = df[col].dtype\n",
        "        \n",
        "        if col_type == 'category':\n",
        "             df[col] = df[col].astype(str)    \n",
        "           \n",
        "    return df"
      ]
    },
    {
      "cell_type": "markdown",
      "metadata": {
        "id": "gOrc2k05nTH5"
      },
      "source": [
        "##### ReduceMemUsage reduce_mem_usage(df)"
      ]
    },
    {
      "cell_type": "code",
      "execution_count": 16,
      "metadata": {
        "id": "TSU1TrwynWXZ"
      },
      "outputs": [],
      "source": [
        "# Drastically reduce df RAM usage ! \n",
        "#I don't know who the original author of this function but many thanks to him ;) \n",
        "#source : https://towardsdatascience.com/how-to-learn-from-bigdata-files-on-low-memory-incremental-learning-d377282d38ff\n",
        "def reduce_mem_usage(df):\n",
        "    \"\"\" \n",
        "    iterate through all the columns of a dataframe and \n",
        "    modify the data type to reduce memory usage.        \n",
        "    \"\"\"\n",
        "    start_mem = df.memory_usage().sum() / 1024**2\n",
        "    print(('Memory usage of dataframe is {:.2f}' \n",
        "                     'MB').format(start_mem))\n",
        "    \n",
        "    for col in df.columns:\n",
        "        col_type = df[col].dtype\n",
        "        \n",
        "        if col_type != object:\n",
        "            c_min = df[col].min()\n",
        "            c_max = df[col].max()\n",
        "            if str(col_type)[:3] == 'int':\n",
        "                if c_min > np.iinfo(np.int8).min and c_max <\\\n",
        "                  np.iinfo(np.int8).max:\n",
        "                    df[col] = df[col].astype(np.int8)\n",
        "                elif c_min > np.iinfo(np.int16).min and c_max <\\\n",
        "                   np.iinfo(np.int16).max:\n",
        "                    df[col] = df[col].astype(np.int16)\n",
        "                elif c_min > np.iinfo(np.int32).min and c_max <\\\n",
        "                   np.iinfo(np.int32).max:\n",
        "                    df[col] = df[col].astype(np.int32)\n",
        "                elif c_min > np.iinfo(np.int64).min and c_max <\\\n",
        "                   np.iinfo(np.int64).max:\n",
        "                    df[col] = df[col].astype(np.int64)  \n",
        "            else:\n",
        "                if c_min > np.finfo(np.float16).min and c_max <\\\n",
        "                   np.finfo(np.float16).max:\n",
        "                    df[col] = df[col].astype(np.float16)\n",
        "                elif c_min > np.finfo(np.float32).min and c_max <\\\n",
        "                   np.finfo(np.float32).max:\n",
        "                    df[col] = df[col].astype(np.float32)\n",
        "                else:\n",
        "                    df[col] = df[col].astype(np.float64)\n",
        "        else:\n",
        "            df[col] = df[col].astype('category')\n",
        "    end_mem = df.memory_usage().sum() / 1024**2\n",
        "    print(('Memory usage after optimization is: {:.2f}' \n",
        "                              'MB').format(end_mem))\n",
        "    print('Decreased by {:.1f}%'.format(100 * (start_mem - end_mem) \n",
        "                                             / start_mem))\n",
        "    \n",
        "    return df\n",
        "\n",
        "    # Attention ne fct pas si le df à optimizer contient un type 'category'\n",
        "  #Code ...........\n",
        "    # df.info(memory_usage=True)\n",
        "    # DataFrame.memory_usage(index=True, deep=False)"
      ]
    },
    {
      "cell_type": "code",
      "source": [
        ""
      ],
      "metadata": {
        "id": "va4EOb_ZfAiS"
      },
      "execution_count": 16,
      "outputs": []
    },
    {
      "cell_type": "markdown",
      "metadata": {
        "id": "uOiZ4HjinZvi"
      },
      "source": [
        "###### dtype Min-Max"
      ]
    },
    {
      "cell_type": "code",
      "execution_count": 17,
      "metadata": {
        "colab": {
          "base_uri": "https://localhost:8080/",
          "height": 112
        },
        "id": "dJHGt2kundVh",
        "outputId": "562b5146-e916-454f-f431-26dc052c7bb0"
      },
      "outputs": [
        {
          "output_type": "execute_result",
          "data": {
            "text/plain": [
              "   np.int8:  np.int16:  np.int32:   np.int64:            np.float16:  \\\n",
              "0 -128      -32768     -2147483648 -9223372036854775808 -65504.0       \n",
              "1  127       32767      2147483647  9223372036854775807  65504.0       \n",
              "\n",
              "   np.float32:   np.float64:    \n",
              "0 -3.402823e+38 -1.797693e+308  \n",
              "1  3.402823e+38  1.797693e+308  "
            ],
            "text/html": [
              "\n",
              "  <div id=\"df-d3b99827-246d-4b79-b503-b4affdfd4325\">\n",
              "    <div class=\"colab-df-container\">\n",
              "      <div>\n",
              "<style scoped>\n",
              "    .dataframe tbody tr th:only-of-type {\n",
              "        vertical-align: middle;\n",
              "    }\n",
              "\n",
              "    .dataframe tbody tr th {\n",
              "        vertical-align: top;\n",
              "    }\n",
              "\n",
              "    .dataframe thead th {\n",
              "        text-align: right;\n",
              "    }\n",
              "</style>\n",
              "<table border=\"1\" class=\"dataframe\">\n",
              "  <thead>\n",
              "    <tr style=\"text-align: left;\">\n",
              "      <th></th>\n",
              "      <th>np.int8:</th>\n",
              "      <th>np.int16:</th>\n",
              "      <th>np.int32:</th>\n",
              "      <th>np.int64:</th>\n",
              "      <th>np.float16:</th>\n",
              "      <th>np.float32:</th>\n",
              "      <th>np.float64:</th>\n",
              "    </tr>\n",
              "  </thead>\n",
              "  <tbody>\n",
              "    <tr>\n",
              "      <th>0</th>\n",
              "      <td>-128</td>\n",
              "      <td>-32768</td>\n",
              "      <td>-2147483648</td>\n",
              "      <td>-9223372036854775808</td>\n",
              "      <td>-65504.0</td>\n",
              "      <td>-3.402823e+38</td>\n",
              "      <td>-1.797693e+308</td>\n",
              "    </tr>\n",
              "    <tr>\n",
              "      <th>1</th>\n",
              "      <td>127</td>\n",
              "      <td>32767</td>\n",
              "      <td>2147483647</td>\n",
              "      <td>9223372036854775807</td>\n",
              "      <td>65504.0</td>\n",
              "      <td>3.402823e+38</td>\n",
              "      <td>1.797693e+308</td>\n",
              "    </tr>\n",
              "  </tbody>\n",
              "</table>\n",
              "</div>\n",
              "      <button class=\"colab-df-convert\" onclick=\"convertToInteractive('df-d3b99827-246d-4b79-b503-b4affdfd4325')\"\n",
              "              title=\"Convert this dataframe to an interactive table.\"\n",
              "              style=\"display:none;\">\n",
              "        \n",
              "  <svg xmlns=\"http://www.w3.org/2000/svg\" height=\"24px\"viewBox=\"0 0 24 24\"\n",
              "       width=\"24px\">\n",
              "    <path d=\"M0 0h24v24H0V0z\" fill=\"none\"/>\n",
              "    <path d=\"M18.56 5.44l.94 2.06.94-2.06 2.06-.94-2.06-.94-.94-2.06-.94 2.06-2.06.94zm-11 1L8.5 8.5l.94-2.06 2.06-.94-2.06-.94L8.5 2.5l-.94 2.06-2.06.94zm10 10l.94 2.06.94-2.06 2.06-.94-2.06-.94-.94-2.06-.94 2.06-2.06.94z\"/><path d=\"M17.41 7.96l-1.37-1.37c-.4-.4-.92-.59-1.43-.59-.52 0-1.04.2-1.43.59L10.3 9.45l-7.72 7.72c-.78.78-.78 2.05 0 2.83L4 21.41c.39.39.9.59 1.41.59.51 0 1.02-.2 1.41-.59l7.78-7.78 2.81-2.81c.8-.78.8-2.07 0-2.86zM5.41 20L4 18.59l7.72-7.72 1.47 1.35L5.41 20z\"/>\n",
              "  </svg>\n",
              "      </button>\n",
              "      \n",
              "  <style>\n",
              "    .colab-df-container {\n",
              "      display:flex;\n",
              "      flex-wrap:wrap;\n",
              "      gap: 12px;\n",
              "    }\n",
              "\n",
              "    .colab-df-convert {\n",
              "      background-color: #E8F0FE;\n",
              "      border: none;\n",
              "      border-radius: 50%;\n",
              "      cursor: pointer;\n",
              "      display: none;\n",
              "      fill: #1967D2;\n",
              "      height: 32px;\n",
              "      padding: 0 0 0 0;\n",
              "      width: 32px;\n",
              "    }\n",
              "\n",
              "    .colab-df-convert:hover {\n",
              "      background-color: #E2EBFA;\n",
              "      box-shadow: 0px 1px 2px rgba(60, 64, 67, 0.3), 0px 1px 3px 1px rgba(60, 64, 67, 0.15);\n",
              "      fill: #174EA6;\n",
              "    }\n",
              "\n",
              "    [theme=dark] .colab-df-convert {\n",
              "      background-color: #3B4455;\n",
              "      fill: #D2E3FC;\n",
              "    }\n",
              "\n",
              "    [theme=dark] .colab-df-convert:hover {\n",
              "      background-color: #434B5C;\n",
              "      box-shadow: 0px 1px 3px 1px rgba(0, 0, 0, 0.15);\n",
              "      filter: drop-shadow(0px 1px 2px rgba(0, 0, 0, 0.3));\n",
              "      fill: #FFFFFF;\n",
              "    }\n",
              "  </style>\n",
              "\n",
              "      <script>\n",
              "        const buttonEl =\n",
              "          document.querySelector('#df-d3b99827-246d-4b79-b503-b4affdfd4325 button.colab-df-convert');\n",
              "        buttonEl.style.display =\n",
              "          google.colab.kernel.accessAllowed ? 'block' : 'none';\n",
              "\n",
              "        async function convertToInteractive(key) {\n",
              "          const element = document.querySelector('#df-d3b99827-246d-4b79-b503-b4affdfd4325');\n",
              "          const dataTable =\n",
              "            await google.colab.kernel.invokeFunction('convertToInteractive',\n",
              "                                                     [key], {});\n",
              "          if (!dataTable) return;\n",
              "\n",
              "          const docLinkHtml = 'Like what you see? Visit the ' +\n",
              "            '<a target=\"_blank\" href=https://colab.research.google.com/notebooks/data_table.ipynb>data table notebook</a>'\n",
              "            + ' to learn more about interactive tables.';\n",
              "          element.innerHTML = '';\n",
              "          dataTable['output_type'] = 'display_data';\n",
              "          await google.colab.output.renderOutput(dataTable, element);\n",
              "          const docLink = document.createElement('div');\n",
              "          docLink.innerHTML = docLinkHtml;\n",
              "          element.appendChild(docLink);\n",
              "        }\n",
              "      </script>\n",
              "    </div>\n",
              "  </div>\n",
              "  "
            ]
          },
          "metadata": {},
          "execution_count": 17
        }
      ],
      "source": [
        "pd.DataFrame.from_dict(\n",
        "{'np.int8:':[np.iinfo(np.int8).min, np.iinfo(np.int8).max],\n",
        "'np.int16:':[np.iinfo(np.int16).min, np.iinfo(np.int16).max],\n",
        "'np.int32:':[np.iinfo(np.int32).min, np.iinfo(np.int32).max],\n",
        "'np.int64:':[np.iinfo(np.int64).min, np.iinfo(np.int64).max],\n",
        "'np.float16:':[np.finfo(np.float16).min, np.finfo(np.float16).max],\n",
        "'np.float32:':[np.finfo(np.float32).min, np.finfo(np.float32).max],\n",
        "'np.float64:':[np.finfo(np.float64).min, np.finfo(np.float64).max]})\n",
        "\n",
        "## info complementaire https://towardsdatascience.com/reducing-memory-usage-in-pandas-with-smaller-datatypes-b527635830af"
      ]
    },
    {
      "cell_type": "markdown",
      "metadata": {
        "id": "JnX8FACIn5ZS"
      },
      "source": [
        "##### MultiDOWN ( Conversion multi-index  à index simple)"
      ]
    },
    {
      "cell_type": "code",
      "execution_count": 18,
      "metadata": {
        "id": "5nmYAbrzn8lx"
      },
      "outputs": [],
      "source": [
        "#Fonction multiDOWN : Conversion df_MultiIndex to df_indexSimple\n",
        "def multiDOWN(DataFrame):\n",
        "  \"\"\"Fonction multiDOWN(DataFrame) : Conversion DataFrame_MultiIndex to DataFrame_indexSimple\"\"\"\n",
        "  DataFrame=DataFrame.columns=DataFrame.columns.to_flat_index() # colonnes => concatener le multi index en un index simple https://datascientyst.com/flatten-multiindex-in-pandas/\n",
        "  DataFrame.reset_index(inplace=True) # Conversion Index en colonnes simple.\n",
        " \n",
        "\n",
        "  # probleme  d'execution "
      ]
    },
    {
      "cell_type": "markdown",
      "source": [
        "### Fonction Satistiques"
      ],
      "metadata": {
        "id": "8TF_ApSU8YrP"
      }
    },
    {
      "cell_type": "markdown",
      "metadata": {
        "id": "xPhqzlgqowQ4"
      },
      "source": [
        "##### PercentCumul(df,Col) Calcul % cumulé"
      ]
    },
    {
      "cell_type": "code",
      "execution_count": 19,
      "metadata": {
        "id": "IUV0c1-7ol4B"
      },
      "outputs": [],
      "source": [
        "# Tri ordre decroissant puis ajoute Colonnne avec Calcul % cumulé pour identifier 20/80 ou 80/20 \n",
        "def PercentCumul(df,Col):\n",
        "  \"\"\" Tri ordre decroissant puis ajoute Colonnne Col_cum% avec Calcul % cumulé pour identifier facilement 20/80 ou 80/20 \"\"\"\n",
        "  df=df.sort_values(by=[Col],ascending=False)\n",
        "  df[Col+'_percent']=(df[Col]/df[Col].sum()) * 100\n",
        "  df[Col+'cum_p']=(df[Col].cumsum() / df[Col].sum()) * 100\n",
        "  df[Col+'_percent']=df[Col+'_percent'].round(2)\n",
        "  df[Col+'cum_p']=df[Col+'cum_p'].round(2)\n",
        " \n",
        "  # df=df.sort_values(by=[Col+'cum_%'],ascending=False)\n",
        "  \n",
        "  return df\n",
        "\n",
        "\n",
        "# Cf cumsum() pour  SommeCumulée\n",
        " #https://pandas.pydata.org/docs/reference/api/pandas.DataFrame.cumsum.html \n",
        "\n",
        "\n",
        " # Aller plus loing  Pareto :  https://commentprogresser.com/outil-pareto.html\n"
      ]
    },
    {
      "cell_type": "markdown",
      "metadata": {
        "id": "rXQklXV_n-g6"
      },
      "source": [
        "#### Moyenne Pondérée "
      ]
    },
    {
      "cell_type": "code",
      "source": [
        "# Calcul Moyenne Pondérée / Weighted Average\n",
        "\n",
        "def MoyPonderee(df, Colvalues, Colweights):\n",
        "  \"\"\" Moyenne Pondérée / Weighted Average\n",
        "    df: DataFrame  - Colvalues : Col Valeurs  - Colweights : Col. Poids relatif \n",
        "  Peut être utlisée avec un Groupby : df.groupby('Year').apply(MoyPonderee, 'Grades', 'NumCourses')\n",
        "  Source :  Rework of https://datagy.io/pandas-weighted-average/ \n",
        "  \"\"\"\n",
        "  return sum(df[Colweights] * df[Colvalues]) / df[Colweights].sum()\n",
        "\n",
        "\n",
        "# Source Rework of https://datagy.io/pandas-weighted-average/ "
      ],
      "metadata": {
        "id": "rUlLQG9pef1T"
      },
      "execution_count": 20,
      "outputs": []
    },
    {
      "cell_type": "markdown",
      "source": [
        "#### QartileIndicatorCol(df,col) Ajout Colonne quartile"
      ],
      "metadata": {
        "id": "a0rklT4VlYMo"
      }
    },
    {
      "cell_type": "code",
      "source": [
        "# Quartile (Ajout colonne conditionnelle quartile) & Outliers methode Interquartiles V2 \n",
        "\n",
        "def QartileIndicatorCol(df,col): \n",
        "  \"\"\" Ajout d'un colonne Conditionelle avec le quartile au df courant  & Recherce Ouliers Methode IQ ( InterQuartiles)\n",
        "QartileIndicatorCol(df,col) => df[col+\"Quartile\"] \"\"\"\n",
        "\n",
        "  # Caculs Seuils des quartiles \n",
        "  q25=df[col].quantile(q=0.25, interpolation='linear')  #Q1\n",
        "  q50=df[col].quantile(q=0.50, interpolation='linear')  #Q2\n",
        "  q75=df[col].quantile(q=0.75, interpolation='linear')  #Q3\n",
        "\n",
        "  Q1=q25 ;   Q2=q50 ;   Q3=q75 # Quartiles simplifiés\n",
        "\n",
        "  # Quartiles Conditions & label \n",
        "  conditionlist = [\n",
        "    (df[col] <= q25) ,\n",
        "    (df[col] > q25) & (df[col] <q75),\n",
        "    (df[col] >= q75)]\n",
        "   \n",
        "  choicelist = ['quartile1','quartile2','quartile3']\n",
        "\n",
        "  df[col+\"_Quartile\"] = np.select(conditionlist, choicelist, default='Not Specified')\n",
        "\n",
        "  # écart interquartile\n",
        "  EcartInterquartile  = Q3 - Q1  # IQ = Q3 - Q1\n",
        "  TauxIQoutliers = 1.5\n",
        "  IQoutliersInf = Q1 -  TauxIQoutliers *  EcartInterquartile # Outliers Inférieurs ?\n",
        "  IQoutliersSup = Q3 +  TauxIQoutliers *  EcartInterquartile # Outliers ISuperieur ? \n",
        "\n",
        " # IQ Conditions & label \n",
        "  conditionlist = [\n",
        "   (df[col] <  IQoutliersInf) ,\n",
        "   (df[col] >=  IQoutliersInf) & (df[col] <= IQoutliersSup),\n",
        "   (df[col] > IQoutliersSup)    ]\n",
        "  \n",
        "  choicelist = ['IQ_Ouliers_Inf','-','IQ_Ouliers_Sup'] \n",
        "\n",
        "  df[col+\"_IQ_Ouliers\"] = np.select(conditionlist, choicelist, default='Not Specified')\n",
        "  \n",
        "  print( pcolors.OK + \"Methode IQ \"+ col+ \":\"+ pcolors.RESET ,\n",
        "        \"Ecart Interquartile= \",EcartInterquartile,\n",
        "        \" -Q1 \",Q1,\" -Q2 \",Q2, \" -Q3 \",Q3)\n",
        "  return df"
      ],
      "metadata": {
        "id": "Za2KZttuS-Es"
      },
      "execution_count": 21,
      "outputs": []
    },
    {
      "cell_type": "markdown",
      "source": [
        "####  Zscore :  Zscore(df,Col)"
      ],
      "metadata": {
        "id": "SzChDO4B75nj"
      }
    },
    {
      "cell_type": "code",
      "source": [
        "#Zscore\n",
        "def Zscore(df,Col): \n",
        "  \"\"\"Zscore(df,Col) :  Ajout colonnes Zscore_Col &  NivConf_Zscore_col\n",
        "                      'ZSscore Omlit NaN  & Interepretion Niv confiance\n",
        "  Parametres  Df: DataFrame & col : Colonne\n",
        "  \"\"\"\n",
        "  import scipy.stats as stats \n",
        "  #https://docs.scipy.org/doc/scipy/reference/generated/scipy.stats.zscore.html\n",
        "  df[\"Zscore_\"+Col] = stats.zscore(df[Col], axis=0, nan_policy='omit')\n",
        "\n",
        "  #https://pandas.pydata.org/docs/reference/api/pandas.DataFrame.std.html \n",
        "  # df[\"ZscoreManuel\"+Col] = (df[Col] - df[Col].mean())/df[Col].std(ddof=0) # Calcul Zscore Manuel\n",
        "  \n",
        "\n",
        "  Za=2.58 ;ZaConf=\"99%\" # Seuil Intervale  confiance 99%  \n",
        "  Zb=1.96 ;ZbConf=\"95%\"# seuil Intervale  confiance95%    \n",
        "  Zc=1.65 ;ZcConf=\"90%\"# seuil Intervale confiance 90%   \n",
        "  # Plus l'intervale est grand plus on s'éloigne de la moyenne et plus la proba de contenir un outlier est élevée. \n",
        "  \n",
        "  \"\"\"Calcul de l’intervalle de confiance : Le principe général d’un intervalle de confiance consiste à déterminer, \n",
        "  à partir de ce qui a été observé dans un sous-échantillon, un intervalle dans lequel la grandeur que l’on étudie,\n",
        "  au sein de la population dont est extrait l’échantillon, a de fortes chances de se situer. En l’occurrence, \n",
        "  il s’agit de déterminer un intervalle, connaissant la proportion p observée dans l’échantillon, \n",
        "  au sein duquel la proportion π réelle de la population étudiée se situe avec une probabilité égale à une valeur fixée à l’avance, \n",
        "  usuellement 95 %, et notée 1-α.\"\"\"\n",
        "\n",
        " \n",
        "  # https://www.math.u-bordeaux.fr/~mchabano/Tab0.pdf\n",
        "  # Zd=1.65 ;ZcConf=\"99,9%\"# seuil confiance 99%   risque erreur α = 0.1%\n",
        "  # source : https://pro.arcgis.com/fr/pro-app/2.7/tool-reference/spatial-statistics/what-is-a-z-score-what-is-a-p-value.htm\n",
        "  # source2 : https://joseph.larmarange.net/?Intervalle-de-confiance-bilateral#:~:text=Le%20plus%20souvent%2C%20les%20intervalles,z%3D%201%2C95996398454%20%E2%89%88%201%2C960\n",
        "  # Tables loi normale :  https://blog.univ-reunion.fr/alessioguarino/files/2016/08/Tables-Loi-Normale-test-Z-Khi2-Student.pdf\n",
        "  #  np.abs(z_score) > threshold:\n",
        "\n",
        "\n",
        "  # Colonne Interpration Zscore \n",
        "  ColRefName=\"Zscore_\"+Col # Nom Colonne de référence pour la segmentation\n",
        "  ColCatName=\"Seuil_IConF_Zscore\" # Nom Colonne Categorie\n",
        "  df[ColCatName]=\"?\"\n",
        "  df[ColRefName].fillna(0,inplace=True)\n",
        "  \n",
        "  df.loc[np.abs(df[ColRefName]) > Za , ColCatName] = \"Superieur à \"+ZaConf \n",
        "  df.loc[np.abs(df[ColRefName]) <= Za , ColCatName] = ZaConf    # utilisation de la Valeur Absolue (-za <= Seuil confiance <= Za )\n",
        "  df.loc[np.abs(df[ColRefName]) <= Zb , ColCatName] = ZbConf\n",
        "  df.loc[np.abs(df[ColRefName]) <= Zc , ColCatName] = ZcConf\n",
        "\n",
        "  df.sort_values(ColRefName, inplace=True)\n",
        "\n",
        "\n",
        "  print(ColRefName,ColCatName)\n",
        "  return df"
      ],
      "metadata": {
        "id": "sTdYGglH8AfN"
      },
      "execution_count": 22,
      "outputs": []
    },
    {
      "cell_type": "markdown",
      "source": [
        "####  Standardisation loi Normale :  "
      ],
      "metadata": {
        "id": "s3vKn5GTWKyN"
      }
    },
    {
      "cell_type": "code",
      "source": [
        "# Graphe loi normale\n",
        "from scipy.integrate import quad\n",
        "import matplotlib.pyplot as plt\n",
        "import scipy.stats\n",
        "import numpy as np\n",
        "\n",
        "\n",
        "x_min = 0\n",
        "x_max = 16\n",
        "\n",
        "mean = 8\n",
        "std = 2\n",
        "\n",
        "x = np.linspace(x_min, x_max, 100)\n",
        "\n",
        "y = scipy.stats.norm.pdf(x,mean,std)\n",
        "\n",
        "plt.plot(x,y, color='coral')\n",
        "\n",
        "plt.grid()\n",
        "\n",
        "plt.xlim(x_min,x_max)\n",
        "plt.ylim(0,0.25)\n",
        "\n",
        "plt.title('How to plot a normal distribution in python with matplotlib',fontsize=10)\n",
        "\n",
        "plt.xlabel('x')\n",
        "plt.ylabel('Normal Distribution')\n",
        "\n",
        "plt.savefig(\"normal_distribution.png\")\n",
        "plt.show()"
      ],
      "metadata": {
        "colab": {
          "base_uri": "https://localhost:8080/",
          "height": 293
        },
        "id": "xrkgN66In_3H",
        "outputId": "a975b913-16b8-482f-c8ff-2f6d2f365c2c"
      },
      "execution_count": 23,
      "outputs": [
        {
          "output_type": "display_data",
          "data": {
            "text/plain": [
              "<Figure size 432x288 with 1 Axes>"
            ],
            "image/png": "[encoded data removed]"
          },
          "metadata": {
            "needs_background": "light"
          }
        }
      ]
    },
    {
      "cell_type": "code",
      "source": [
        "# Standadisation d'une loi normale N(µ,σ)  :  Ramener un loi normale  à la la loi normale centrée réduite : N (0, 1)\n",
        "\n",
        "def Standardisation(X,µ,σ):\n",
        "  # Standardisation Formula :   \n",
        "  Z=(X-µ)/σ  # Z : Zscore  X:observation   µ: moyenne   σ : Ecart type\n",
        "\n",
        "  #https://www.youtube.com/watch?v=2tuBREK_mgE\n",
        "  #https://www.youtube.com/watch?v=mtbJbDwqWLE  : 68-95-99.7 Rule (5.2)\n",
        "  # Table Loi Normale Centrale reduite "
      ],
      "metadata": {
        "id": "V1d00EySXRdi"
      },
      "execution_count": 24,
      "outputs": []
    },
    {
      "cell_type": "code",
      "source": [
        "def TestLoiNormale(df,Col): \n",
        " df_name = get_df_name(df)\n",
        "\n",
        " print(pcolors.OK +\"Moyenne :\"+pcolors.RESET,df[Col].mean())\n",
        " print(pcolors.OK +\"Moyenne :\"+pcolors.RESET,df[Col].mean())\n",
        " print(pcolors.OK +\"Mode :\"+pcolors.RESET,df[Col].mode())\n",
        " print(pcolors.OK +\"Variance Corrigée :\"+pcolors.RESET,df[Col].var(ddof=0))\n",
        " print(pcolors.OK +\"Ecart type Corrigée :\"+pcolors.RESET,df[Col].std(ddof=0))\n",
        " print(pcolors.OK +\"Skew :\"+pcolors.RESET,df[Col].skew())\n",
        " print(pcolors.OK +\"Kurtosis :\"+pcolors.RESET,df[Col].kurtosis())\n",
        " df[Col].hist() ; plt.show()\n",
        "\n",
        " # Skewness empirique  : Mesure asymétrie Distribution\n",
        " γs = df[Col].skew()\n",
        " γs== 0 #alors la distribution est symétrique.\n",
        " γs>0 #alors la distribution est étalée à droite.\n",
        " γs<0 #alors la distribution est étalée à gauche.\n",
        "\n",
        " # Kurtosis empirique : Mesure Applatissement\n",
        " # L’aplatissement peut s’interpréter à la condition que la distribution soit symétrique !\n",
        " γk = df[Col].kurtosis() \n",
        " γk==0 # alors la distribution a le même aplatissement que la distribution normale.\n",
        " γk>0 # alors elle est moins aplatie que la distribution normale : les observations sont plus concentrées.\n",
        " γk<0 # alors les observations sont moins concentrées : la distribution est plus aplati"
      ],
      "metadata": {
        "id": "WZ-4EKhSNcV6"
      },
      "execution_count": 31,
      "outputs": []
    },
    {
      "cell_type": "markdown",
      "source": [
        "#### Test Normalité :  TestNorm(data,α)"
      ],
      "metadata": {
        "id": "Ll7rPM_NnUMf"
      }
    },
    {
      "cell_type": "code",
      "source": [
        "from numpy.random import seed\n",
        "from numpy.random import poisson\n",
        "from numpy.random import randn\n",
        "# Test normalité d'un échantillon \n",
        "\n",
        "\n",
        "data = scipy.stats.norm.pdf(np.linspace(0, 1, 100),8,3)  #poisson(5, 100)  # randn(100)  # scipy.stats.norm.pdf(np.linspace(0, 1, 100),8,3)   #scipy.stats.norm.pdf(x,mean,std)\n",
        "N = len(data) # Taille échantillon \n",
        "α=0.050 # niveau alpha 0.05 / 5% par defaut \n",
        "\n",
        "plt.hist(data, bins='auto')  # arguments are passed to np.histogram  plt.hist(data, bins='auto') \n",
        "\n",
        "#Test de Kolmogorov-Smirnov\n",
        "#https://fr.wikipedia.org/wiki/Test_de_Kolmogorov-Smirnov?tableofcontents=0\n",
        "# https://docs.scipy.org/doc/scipy/reference/generated/scipy.stats.kstest.html\n",
        "\n",
        "# Test Non parametrique sur des variables quantitatives\n",
        "#Attention test peut efficae dans les queues d e distribution  \n",
        "# Plus pertinant sur les petit echantillon que Kolmogorov-Smirnov\n",
        "# H0 (hypothese nulle): l'échantillon est issu d'une population normalement distribuée au risque alpha     \n",
        "# H1 (hypothese alternative): la p-value ne permet pas de conclure que l'échantillon est issu d'une population norlement distribué\n",
        "#Interpretation du test : \n",
        "#  si la p-value est inférieure à un niveau alpha choisi (par exemple 0.05), alors l'hypothèse nulle est rejetée (i.e. il est improbable d'obtenir de telles données en supposant qu'elles soient normalement distribuées).\n",
        "#  si la p-value est supérieure au niveau alpha choisi (par exemple 0.05), alors on ne doit pas rejeter l'hypothèse nulle. La valeur de la p-value alors obtenue ne présuppose en rien de la nature de la distribution des données.\n",
        "\n",
        "TestKS = stats.kstest(data, 'norm', alternative='two-sided')  #alternative {‘two-sided’, ‘less’, ‘greater’},\n",
        "\n",
        "print(TestKS ,TestKS[0],TestKS[1])\n",
        "print(pcolors.OK +\"Test normalité Kolmogorov-Smirnov:\"+pcolors.RESET,TestKS )\n",
        "if TestKS[1]<= α: \n",
        "  print(\"L'échantillon est issu d'une population normalement distribuée au risque alpha (\",α*100,\"%)\")\n",
        "else:\n",
        "  print(\"La valeur de la p-value obtenue (\",round(TestKS[1],3) ,\">\",α,\"') ne présuppose en rien de la nature de la distribution des données.\")\n",
        "\n",
        "\n",
        "\n",
        "\n",
        "#The Shapiro-Wilk test is a test of normality. It is used to determine whether or not a sample comes from a normal distribution.\n",
        "#https://fr.wikipedia.org/wiki/Test_de_Shapiro-Wilk\n",
        "#https://docs.scipy.org/doc/scipy/reference/generated/scipy.stats.shapiro.html\n",
        "\n",
        "TestSW = stats.shapiro(data)\n",
        "# Test Non parametrique sur des variables quantitatives\n",
        "# Plus pertinant sur les petit echantillon que Kolmogorov-Smirnov\n",
        "# H0 (hypothese nulle): l'échantillon est issu d'une population normalement distribuée au risque alpha     \n",
        "# H1 (hypothese alternative): la p-value ne permet pas de conclure que l'échantillon est issu d'une population norlement distribué\n",
        "#Interpretation du test : \n",
        "#  si la p-value est inférieure à un niveau alpha choisi (par exemple 0.05), alors l'hypothèse nulle est rejetée (i.e. il est improbable d'obtenir de telles données en supposant qu'elles soient normalement distribuées).\n",
        "#  si la p-value est supérieure au niveau alpha choisi (par exemple 0.05), alors on ne doit pas rejeter l'hypothèse nulle. La valeur de la p-value alors obtenue ne présuppose en rien de la nature de la distribution des données.\n",
        "\n",
        "\n",
        "\n",
        "print(pcolors.OK +\"Test normalité Shapiro-Wilk:\"+pcolors.RESET,\" W:\", TestSW[0],\" p-value:\",TestSW[1],\"N:\",N)\n",
        "if TestSW[1]<= α: \n",
        "  print(\"L'échantillon est issu d'une population normalement distribuée au risque alpha (\",α*100,\"%)\")\n",
        "else:\n",
        "  print(\"La valeur de la p-value obtenue (\",round(TestSW[1],3) ,\">\",α,\"') ne présuppose en rien de la nature de la distribution des données.\")\n",
        "\n",
        "\n",
        "#https://fr.wikipedia.org/wiki/Test_statistique"
      ],
      "metadata": {
        "colab": {
          "base_uri": "https://localhost:8080/",
          "height": 352
        },
        "id": "vcbyLxwCJzg6",
        "outputId": "51ce1247-ac28-41b3-f517-4aa20cc62545"
      },
      "execution_count": 30,
      "outputs": [
        {
          "output_type": "stream",
          "name": "stdout",
          "text": [
            "KstestResult(statistic=0.5015154432393192, pvalue=8.5777578922507e-24) 0.5015154432393192 8.5777578922507e-24\n",
            "\u001b[92mTest normalité Kolmogorov-Smirnov:\u001b[0m KstestResult(statistic=0.5015154432393192, pvalue=8.5777578922507e-24)\n",
            "L'échantillon est issu d'une population normalement distribuée au risque alpha ( 5.0 %)\n",
            "\u001b[92mTest normalité Shapiro-Wilk:\u001b[0m  W: 0.948352038860321  p-value: 0.0006471576634794474 N: 100\n",
            "L'échantillon est issu d'une population normalement distribuée au risque alpha ( 5.0 %)\n"
          ]
        },
        {
          "output_type": "display_data",
          "data": {
            "text/plain": [
              "<Figure size 432x288 with 1 Axes>"
            ],
            "image/png": "[encoded data removed]"
          },
          "metadata": {
            "needs_background": "light"
          }
        }
      ]
    },
    {
      "cell_type": "code",
      "source": [
        ""
      ],
      "metadata": {
        "id": "FVGXHtfTawN6"
      },
      "execution_count": null,
      "outputs": []
    },
    {
      "cell_type": "markdown",
      "metadata": {
        "id": "-9YURU8A6ck0"
      },
      "source": [
        "###  Exports"
      ]
    },
    {
      "cell_type": "markdown",
      "metadata": {
        "id": "EXPMoKlT6vVd"
      },
      "source": [
        "#### Export DataFrame Excel /CSV :   ExportDF(df,file_name) "
      ]
    },
    {
      "cell_type": "code",
      "execution_count": null,
      "metadata": {
        "id": "OcSdg9Nu6fAE"
      },
      "outputs": [],
      "source": [
        "def ExportDF(df,file_name):\n",
        " \"\"\" ExportXLS(df,file_name)   DataFrame et Nom du fichier  \n",
        "  Format Excel :  .xlsx     ou Format CSV .csv (utF8 - separateur ;)\n",
        " le fichier est stocké à la racine du projet (machine virtuelle pour Google Colab)   \"\"\"\n",
        " import re\n",
        " df_name = get_df_name(df)  # DataFrame Name \n",
        " testCSV=re.search('.csv', file_name) != None # True si file_name contient re.search # print(test)\n",
        " testXLS=re.search('.xls', file_name) != None # True si file_name contient re.search # print(test)\n",
        "\n",
        " # Specify the name of the file ( .xlx for Excel or .csv for text format)\n",
        " # file_name = 'Output.xlsx'\n",
        " if testCSV == True :\n",
        "  df.to_csv(file_name, encoding='utf-8') # saving CSV\n",
        "  print(\"Confirmation : \", df_name,\"exporté sous :\",file_name)\n",
        "  # https://pandas.pydata.org/docs/reference/api/pandas.DataFrame.to_csv.html\n",
        "  \n",
        " elif testXLS ==True :\n",
        "  df.to_excel(file_name) # saving the excelsheet \n",
        "  print(\"Confirmation : \", df_name,\"exporté sous :\",file_name) \n",
        "  # https://pandas.pydata.org/docs/reference/api/pandas.DataFrame.to_excel.html\n",
        "  \n",
        " else :\n",
        "   print(\"Erreur convertion : \", df_name,'en :',file_name,\" vérifier le format du fichier .xls .xlsx  ou .csv\")\n",
        "\n",
        "\n",
        "# Ajouter Fonction  to html : https://pandas.pydata.org/docs/reference/api/pandas.DataFrame.to_html.html?highlight=to_#pandas-dataframe-to-html\n",
        "# https://pandas.pydata.org/docs/reference/api/pandas.DataFrame.to_clipboard.html\n",
        "# https://pandas.pydata.org/docs/reference/api/pandas.DataFrame.to_xml.html\n",
        "# https://pandas.pydata.org/docs/reference/api/pandas.DataFrame.to_json.html\n",
        "# https://pandas.pydata.org/docs/reference/api/pandas.DataFrame.to_sql.html\n"
      ]
    },
    {
      "cell_type": "code",
      "execution_count": null,
      "metadata": {
        "id": "liO4moBFHfvV"
      },
      "outputs": [],
      "source": [
        "#test \n",
        "# ExportDF(df,\"test.xlsx\")"
      ]
    },
    {
      "cell_type": "code",
      "source": [
        "# import pandas as pd\n",
        "# import numpy as np\n",
        "# import matplotlib.pyplot as plt\n",
        "# from matplotlib.backends.backend_pdf import PdfPages\n",
        "\n",
        "# df = pd.DataFrame(np.random.random((10,3)), columns = (\"col 1\", \"col 2\", \"col 3\"))\n",
        "\n",
        "# #https://stackoverflow.com/questions/32137396/how-do-i-plot-only-a-table-in-matplotlib\n",
        "# fig, ax =plt.subplots(figsize=(12,4))\n",
        "# ax.axis('tight')\n",
        "# ax.axis('off')\n",
        "# the_table = ax.table(cellText=df.values,colLabels=df.columns,loc='center')\n",
        "\n",
        "# #https://stackoverflow.com/questions/4042192/reduce-left-and-right-margins-in-matplotlib-plot\n",
        "# pp = PdfPages(\"foo.pdf\")\n",
        "# pp.savefig(fig, bbox_inches='tight')\n",
        "# pp.close()\n",
        "# Complement : https://stackoverflow.com/questions/33155776/export-pandas-dataframe-into-a-pdf-file-using-python"
      ],
      "metadata": {
        "id": "5GegMonVPG6O"
      },
      "execution_count": null,
      "outputs": []
    },
    {
      "cell_type": "code",
      "source": [
        "# import pandas as pd\n",
        "# import pdfkit as pdf\n",
        "# import sqlite3\n",
        "\n",
        "# con=sqlite3.connect(\"baza.db\")\n",
        "\n",
        "# df=pd.read_sql_query(\"select * from dobit\", con)\n",
        "# df.to_html('/home/linux/izvestaj.html')\n",
        "# nazivFajla='/home/linux/pdfPrintOut.pdf'\n",
        "# pdf.from_file('/home/linux/izvestaj.html', nazivFajla)"
      ],
      "metadata": {
        "id": "6FCyi1QOP6A1"
      },
      "execution_count": null,
      "outputs": []
    },
    {
      "cell_type": "code",
      "source": [
        "# !pip install weasyprint\n",
        "# #  Create a pandas dataframe with demo data:\n",
        "# import pandas as pd\n",
        "# demodata_csv = 'https://raw.githubusercontent.com/mwaskom/seaborn-data/master/iris.csv'\n",
        "# df = pd.read_csv(demodata_csv)\n",
        "\n",
        "# # Pretty print the dataframe as an html table to a file\n",
        "# intermediate_html = '/tmp/intermediate.html'\n",
        "# to_html_pretty(df,intermediate_html,'Iris Data')\n",
        "# # if you do not want pretty printing, just use pandas:\n",
        "# # df.to_html(intermediate_html)\n",
        "\n",
        "# # Convert the html file to a pdf file using weasyprint\n",
        "# import weasyprint\n",
        "# out_pdf= '/tmp/demo.pdf'\n",
        "# weasyprint.HTML(intermediate_html).write_pdf(out_pdf)\n",
        "\n",
        "# # This is the table pretty printer used above:\n",
        "\n",
        "# def to_html_pretty(df, filename='/tmp/out.html', title=''):\n",
        "#     '''\n",
        "#     Write an entire dataframe to an HTML file\n",
        "#     with nice formatting.\n",
        "#     Thanks to @stackoverflowuser2010 for the\n",
        "#     pretty printer see https://stackoverflow.com/a/47723330/362951\n",
        "#     '''\n",
        "#     ht = ''\n",
        "#     if title != '':\n",
        "#         ht += '<h2> %s </h2>\\n' % title\n",
        "#     ht += df.to_html(classes='wide', escape=False)\n",
        "\n",
        "#     with open(filename, 'w') as f:\n",
        "#          f.write(HTML_TEMPLATE1 + ht + HTML_TEMPLATE2)\n",
        "\n",
        "# HTML_TEMPLATE1 = '''\n",
        "# <html>\n",
        "# <head>\n",
        "# <style>\n",
        "#   h2 {\n",
        "#     text-align: center;\n",
        "#     font-family: Helvetica, Arial, sans-serif;\n",
        "#   }\n",
        "#   table { \n",
        "#     margin-left: auto;\n",
        "#     margin-right: auto;\n",
        "#   }\n",
        "#   table, th, td {\n",
        "#     border: 1px solid black;\n",
        "#     border-collapse: collapse;\n",
        "#   }\n",
        "#   th, td {\n",
        "#     padding: 5px;\n",
        "#     text-align: center;\n",
        "#     font-family: Helvetica, Arial, sans-serif;\n",
        "#     font-size: 90%;\n",
        "#   }\n",
        "#   table tbody tr:hover {\n",
        "#     background-color: #dddddd;\n",
        "#   }\n",
        "#   .wide {\n",
        "#     width: 90%; \n",
        "#   }\n",
        "# </style>\n",
        "# </head>\n",
        "# <body>\n",
        "# '''\n",
        "\n",
        "# HTML_TEMPLATE2 = '''\n",
        "# </body>\n",
        "# </html>\n",
        "# '''\n",
        "\n",
        "# https://stackoverflow.com/questions/33155776/export-pandas-dataframe-into-a-pdf-file-using-python?newreg=2926175bf7ab431a87ec344c0fb5e967"
      ],
      "metadata": {
        "id": "oC2bbEXlQ6_O"
      },
      "execution_count": null,
      "outputs": []
    },
    {
      "cell_type": "markdown",
      "source": [
        ""
      ],
      "metadata": {
        "id": "jq10xu8kaQVd"
      }
    },
    {
      "cell_type": "markdown",
      "metadata": {
        "id": "-uX82pruJMxc"
      },
      "source": [
        "#### Export Plolty to HTML :   ExportPlotly(fig,file_name) "
      ]
    },
    {
      "cell_type": "code",
      "execution_count": null,
      "metadata": {
        "id": "G-IEAwXpJcka"
      },
      "outputs": [],
      "source": [
        "# Exporte un figure plotly (fig) au format HTML :  file_name.html\n",
        "def ExportPlotly(fig,file_name):\n",
        " \"\"\"ExportPlotly(fig,file_name)\n",
        " Exporte une figure plotly (fig) au format HTML (file_name.html)\n",
        " le fichier est stocké à la racine du projet (machine virtuelle pour Google Colab)   \"\"\"\n",
        "\n",
        " file_name = file_name+\".html\"\n",
        " fig.write_html(file_name)\n",
        " print(file_name,\"exporté dans le répertoire racine\")"
      ]
    },
    {
      "cell_type": "code",
      "execution_count": null,
      "metadata": {
        "id": "Q74HdR4jexxP"
      },
      "outputs": [],
      "source": [
        "# Push to gihub en Test : https://gist.github.com/avullo/b8153522f015a8b908072833b95c3408"
      ]
    },
    {
      "cell_type": "markdown",
      "source": [
        "#### Wordcloud  A completer"
      ],
      "metadata": {
        "id": "-jvWNP7NaMTE"
      }
    },
    {
      "cell_type": "code",
      "source": [
        "# Libraries\n",
        "from wordcloud import WordCloud\n",
        "import matplotlib.pyplot as plt\n",
        "# https://amueller.github.io/word_cloud/generated/wordcloud.WordCloud.html\n",
        "\n",
        "# Create a list of word\n",
        "text=\"BottleNeck BottleNeck BottleNeck  BottleNeck  BottleNeck   vin champagne AOC Bordeaux Bordeaux Bourgogne Bourgogne Gewurztraminer Grand Cru Château Turcaud Bordeaux Rouge Domaine La Croix    Beaune Vieilles Vignes Champagne Mailly Grand Cru  Mailly Grand Cru Brut Réserve Alscace Jurançon Pinot Gris Vendanges Tardives Sec Pinot Gris Champagne Gosset  Pinot Noir Domaine Huet Vouvray Saumur Blanc Clos RomanDomaine Saint-Nicolas Château de Villeneuve Saumur-Champigny Domaine Labranche Pinot Noir Sous La Tour Chambolle-Musigny 1er Cru  Wemyss Malts Single Cask Scotch Whisky Domaine de La Tour Cognac Frapin\" #+Global.query(\"post_title != 0\").post_title.values\n",
        "text\n",
        "# text\n",
        "\n",
        "# # Create the wordcloud object\n",
        "wordcloud = WordCloud(width=480, height=480, margin=0).generate(text)\n",
        "wordcloudWhite = WordCloud(width=480, height=480, margin=0, background_color=\"white\").generate(text)\n",
        "\n",
        "\n",
        "\n",
        "# Display the generated image:\n",
        "plt.imshow(wordcloud, interpolation='bilinear')\n",
        "plt.axis(\"off\")\n",
        "plt.margins(x=0, y=0)\n",
        "plt.show()\n",
        "\n",
        "\n",
        "plt.imshow(wordcloudWhite, interpolation='bilinear')\n",
        "plt.axis(\"off\")\n",
        "plt.margins(x=0, y=0)\n",
        "plt.show()\n",
        "\n",
        "#WordCloud Tuto\n",
        "#https://re-thought.com/creating-wordclouds-in-python/\n",
        "#https://www.datacamp.com/tutorial/wordcloud-python \n",
        "# https://www.datacamp.com/tutorial/wordcloud-python\n",
        "# https://thecleverprogrammer.com/2021/11/11/word-cloud-from-a-pandas-dataframe-in-python/"
      ],
      "metadata": {
        "id": "4NtIWd4LaXIj"
      },
      "execution_count": null,
      "outputs": []
    }
  ]
}